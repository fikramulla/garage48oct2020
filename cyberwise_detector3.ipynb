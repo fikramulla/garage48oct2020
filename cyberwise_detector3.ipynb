{
 "cells": [
  {
   "cell_type": "markdown",
   "metadata": {},
   "source": [
    "# Team Cyberwise\n",
    "## Cyber Fraud Detection Automata - v2\n",
    "### (Tailor-made for SMEs, open source, speed + scalability + quality of prediction)"
   ]
  },
  {
   "cell_type": "code",
   "execution_count": 2,
   "metadata": {},
   "outputs": [],
   "source": [
    "# this algorithm reads in logs files, automates the formatting, \n",
    "#classifies behaviors of false alarms vs. real threats, and develops an ML-model for prediction"
   ]
  },
  {
   "cell_type": "code",
   "execution_count": 1,
   "metadata": {},
   "outputs": [
    {
     "data": {
      "text/html": [
       "'R version 4.0.2 (2020-06-22)'"
      ],
      "text/latex": [
       "'R version 4.0.2 (2020-06-22)'"
      ],
      "text/markdown": [
       "'R version 4.0.2 (2020-06-22)'"
      ],
      "text/plain": [
       "[1] \"R version 4.0.2 (2020-06-22)\""
      ]
     },
     "metadata": {},
     "output_type": "display_data"
    }
   ],
   "source": [
    "rm(list=(ls()))\n",
    "R.version.string"
   ]
  },
  {
   "cell_type": "code",
   "execution_count": 2,
   "metadata": {},
   "outputs": [
    {
     "name": "stderr",
     "output_type": "stream",
     "text": [
      "Installing package into 'C:/Users/Faiz/Documents/R/win-library/4.0'\n",
      "(as 'lib' is unspecified)\n",
      "\n"
     ]
    },
    {
     "name": "stdout",
     "output_type": "stream",
     "text": [
      "package 'fastDummies' successfully unpacked and MD5 sums checked\n",
      "\n",
      "The downloaded binary packages are in\n",
      "\tC:\\Users\\Faiz\\AppData\\Local\\Temp\\RtmpQXxVKW\\downloaded_packages\n"
     ]
    }
   ],
   "source": [
    "install.packages('fastDummies')"
   ]
  },
  {
   "cell_type": "code",
   "execution_count": 3,
   "metadata": {},
   "outputs": [
    {
     "name": "stderr",
     "output_type": "stream",
     "text": [
      "-- \u001b[1mAttaching packages\u001b[22m --------------------------------------- tidyverse 1.3.0 --\n",
      "\n",
      "\u001b[32mv\u001b[39m \u001b[34mggplot2\u001b[39m 3.3.2     \u001b[32mv\u001b[39m \u001b[34mpurrr  \u001b[39m 0.3.4\n",
      "\u001b[32mv\u001b[39m \u001b[34mtibble \u001b[39m 3.0.3     \u001b[32mv\u001b[39m \u001b[34mdplyr  \u001b[39m 1.0.2\n",
      "\u001b[32mv\u001b[39m \u001b[34mtidyr  \u001b[39m 1.1.2     \u001b[32mv\u001b[39m \u001b[34mstringr\u001b[39m 1.4.0\n",
      "\u001b[32mv\u001b[39m \u001b[34mreadr  \u001b[39m 1.4.0     \u001b[32mv\u001b[39m \u001b[34mforcats\u001b[39m 0.5.0\n",
      "\n",
      "-- \u001b[1mConflicts\u001b[22m ------------------------------------------ tidyverse_conflicts() --\n",
      "\u001b[31mx\u001b[39m \u001b[34mdplyr\u001b[39m::\u001b[32mfilter()\u001b[39m masks \u001b[34mstats\u001b[39m::filter()\n",
      "\u001b[31mx\u001b[39m \u001b[34mdplyr\u001b[39m::\u001b[32mlag()\u001b[39m    masks \u001b[34mstats\u001b[39m::lag()\n",
      "\n",
      "Warning message:\n",
      "\"package 'fastDummies' was built under R version 4.0.3\"\n",
      "Loading required package: lattice\n",
      "\n",
      "\n",
      "Attaching package: 'caret'\n",
      "\n",
      "\n",
      "The following object is masked from 'package:purrr':\n",
      "\n",
      "    lift\n",
      "\n",
      "\n"
     ]
    }
   ],
   "source": [
    "#used/tobeused packages here\n",
    "library(tidyverse)\n",
    "library(ggplot2)\n",
    "library(fastDummies)\n",
    "library(e1071)\n",
    "library(caret)"
   ]
  },
  {
   "cell_type": "code",
   "execution_count": 4,
   "metadata": {},
   "outputs": [],
   "source": [
    "# read log\n",
    "log <- read.csv(\"logs.csv\")"
   ]
  },
  {
   "cell_type": "markdown",
   "metadata": {},
   "source": [
    "### Data Engineering Steps"
   ]
  },
  {
   "cell_type": "code",
   "execution_count": 5,
   "metadata": {},
   "outputs": [],
   "source": [
    "#there are some gaps in column 2 (what should be day), need to clean these up - doing in quattro reading in new file"
   ]
  },
  {
   "cell_type": "code",
   "execution_count": 6,
   "metadata": {},
   "outputs": [],
   "source": [
    "# read log\n",
    "log1 <- read.csv(\"logs_clean.csv\")"
   ]
  },
  {
   "cell_type": "code",
   "execution_count": 7,
   "metadata": {},
   "outputs": [],
   "source": [
    "#label the columns better\n",
    "names(log1) <- c(\"month\", \"day\", \"time\", \"source\", \"proxy\", \"ipaddress\",\"timestamp\",\"public\",\"service\",\"seq1\",\"data1\",\"data2\",\n",
    "                \"ignore1\",\"ignore2\",\"label1\",\"seq2\",\"seq3\",\"action\",\"note\",\"http\")"
   ]
  },
  {
   "cell_type": "code",
   "execution_count": 8,
   "metadata": {},
   "outputs": [
    {
     "data": {
      "text/html": [
       "<style>\n",
       ".list-inline {list-style: none; margin:0; padding: 0}\n",
       ".list-inline>li {display: inline-block}\n",
       ".list-inline>li:not(:last-child)::after {content: \"\\00b7\"; padding: 0 .5ex}\n",
       "</style>\n",
       "<ol class=list-inline><li>'Oct'</li><li>'Sep'</li><li>'you'</li><li>':'</li><li>'fetch'</li><li>'1'</li><li>'\\'replace-header\\','</li><li>'\\'sc-inc-gpc0(*)\\','</li><li>'active'</li><li>'backup'</li><li>'key'</li><li>'from'</li></ol>\n"
      ],
      "text/latex": [
       "\\begin{enumerate*}\n",
       "\\item 'Oct'\n",
       "\\item 'Sep'\n",
       "\\item 'you'\n",
       "\\item ':'\n",
       "\\item 'fetch'\n",
       "\\item '1'\n",
       "\\item '\\textbackslash{}'replace-header\\textbackslash{}','\n",
       "\\item '\\textbackslash{}'sc-inc-gpc0(*)\\textbackslash{}','\n",
       "\\item 'active'\n",
       "\\item 'backup'\n",
       "\\item 'key'\n",
       "\\item 'from'\n",
       "\\end{enumerate*}\n"
      ],
      "text/markdown": [
       "1. 'Oct'\n",
       "2. 'Sep'\n",
       "3. 'you'\n",
       "4. ':'\n",
       "5. 'fetch'\n",
       "6. '1'\n",
       "7. '\\'replace-header\\','\n",
       "8. '\\'sc-inc-gpc0(*)\\','\n",
       "9. 'active'\n",
       "10. 'backup'\n",
       "11. 'key'\n",
       "12. 'from'\n",
       "\n",
       "\n"
      ],
      "text/plain": [
       " [1] \"Oct\"               \"Sep\"               \"you\"              \n",
       " [4] \":\"                 \"fetch\"             \"1\"                \n",
       " [7] \"'replace-header',\" \"'sc-inc-gpc0(*)',\" \"active\"           \n",
       "[10] \"backup\"            \"key\"               \"from\"             "
      ]
     },
     "metadata": {},
     "output_type": "display_data"
    }
   ],
   "source": [
    "unique(log1[[\"month\"]])"
   ]
  },
  {
   "cell_type": "code",
   "execution_count": 9,
   "metadata": {},
   "outputs": [],
   "source": [
    "oct <- filter(log1, month == \"Oct\")\n",
    "sep <- filter(log1, month == \"Sep\")\n",
    "other <- filter(log1, month !=\"Oct\", month != \"Sep\" )"
   ]
  },
  {
   "cell_type": "code",
   "execution_count": 10,
   "metadata": {},
   "outputs": [],
   "source": [
    "# the 'other' dataset is some notes and does not contain useful ip or web traffice info, will delete it (i.e. only focus on the oct and sep data frames)"
   ]
  },
  {
   "cell_type": "code",
   "execution_count": 11,
   "metadata": {},
   "outputs": [],
   "source": [
    "#some stats on sep / oct dataset"
   ]
  },
  {
   "cell_type": "code",
   "execution_count": 12,
   "metadata": {},
   "outputs": [
    {
     "data": {
      "text/html": [
       "<style>\n",
       ".list-inline {list-style: none; margin:0; padding: 0}\n",
       ".list-inline>li {display: inline-block}\n",
       ".list-inline>li:not(:last-child)::after {content: \"\\00b7\"; padding: 0 .5ex}\n",
       "</style>\n",
       "<ol class=list-inline><li>'public/&lt;NOSRV&gt;'</li><li>'SSL'</li><li>'mail_server/srv01'</li><li>'blog_server/srv01'</li><li>'git_server/srv01'</li><li>':'</li><li>''</li><li>'in'</li><li>'(FE:'</li></ol>\n"
      ],
      "text/latex": [
       "\\begin{enumerate*}\n",
       "\\item 'public/<NOSRV>'\n",
       "\\item 'SSL'\n",
       "\\item 'mail\\_server/srv01'\n",
       "\\item 'blog\\_server/srv01'\n",
       "\\item 'git\\_server/srv01'\n",
       "\\item ':'\n",
       "\\item ''\n",
       "\\item 'in'\n",
       "\\item '(FE:'\n",
       "\\end{enumerate*}\n"
      ],
      "text/markdown": [
       "1. 'public/&lt;NOSRV&gt;'\n",
       "2. 'SSL'\n",
       "3. 'mail_server/srv01'\n",
       "4. 'blog_server/srv01'\n",
       "5. 'git_server/srv01'\n",
       "6. ':'\n",
       "7. ''\n",
       "8. 'in'\n",
       "9. '(FE:'\n",
       "\n",
       "\n"
      ],
      "text/plain": [
       "[1] \"public/<NOSRV>\"    \"SSL\"               \"mail_server/srv01\"\n",
       "[4] \"blog_server/srv01\" \"git_server/srv01\"  \":\"                \n",
       "[7] \"\"                  \"in\"                \"(FE:\"             "
      ]
     },
     "metadata": {},
     "output_type": "display_data"
    }
   ],
   "source": [
    "(unique(sep[[\"service\"]]))"
   ]
  },
  {
   "cell_type": "code",
   "execution_count": 13,
   "metadata": {},
   "outputs": [
    {
     "data": {
      "image/png": "[encoded data removed]",
      "text/plain": [
       "plot without title"
      ]
     },
     "metadata": {
      "image/png": {
       "height": 420,
       "width": 420
      }
     },
     "output_type": "display_data"
    }
   ],
   "source": [
    "ggplot(data=sep, aes(x=service), options(repr.plot.width=15, repr.plot.height=4)) +\n",
    "  geom_bar(fill = \"purple\")"
   ]
  },
  {
   "cell_type": "code",
   "execution_count": 14,
   "metadata": {
    "scrolled": true
   },
   "outputs": [
    {
     "data": {
      "image/png": "[encoded data removed]",
      "text/plain": [
       "plot without title"
      ]
     },
     "metadata": {
      "image/png": {
       "height": 420,
       "width": 420
      }
     },
     "output_type": "display_data"
    }
   ],
   "source": [
    "ggplot(data=oct, aes(x=service)) +\n",
    "  geom_bar(fill = \"blue\") "
   ]
  },
  {
   "cell_type": "code",
   "execution_count": 16,
   "metadata": {},
   "outputs": [
    {
     "data": {
      "text/html": [
       "<style>\n",
       ".list-inline {list-style: none; margin:0; padding: 0}\n",
       ".list-inline>li {display: inline-block}\n",
       ".list-inline>li:not(:last-child)::after {content: \"\\00b7\"; padding: 0 .5ex}\n",
       "</style>\n",
       "<ol class=list-inline><li>'\"GET'</li><li>''</li><li>'\"POST'</li><li>'\"HEAD'</li><li>'&lt;BADREQ&gt;'</li><li>'\"SSTP_DUPLEX_POST'</li><li>'\"OPTIONS'</li><li>'workload'</li><li>'\"CONNECT'</li><li>'load'</li></ol>\n"
      ],
      "text/latex": [
       "\\begin{enumerate*}\n",
       "\\item '\"GET'\n",
       "\\item ''\n",
       "\\item '\"POST'\n",
       "\\item '\"HEAD'\n",
       "\\item '<BADREQ>'\n",
       "\\item '\"SSTP\\_DUPLEX\\_POST'\n",
       "\\item '\"OPTIONS'\n",
       "\\item 'workload'\n",
       "\\item '\"CONNECT'\n",
       "\\item 'load'\n",
       "\\end{enumerate*}\n"
      ],
      "text/markdown": [
       "1. '\"GET'\n",
       "2. ''\n",
       "3. '\"POST'\n",
       "4. '\"HEAD'\n",
       "5. '&lt;BADREQ&gt;'\n",
       "6. '\"SSTP_DUPLEX_POST'\n",
       "7. '\"OPTIONS'\n",
       "8. 'workload'\n",
       "9. '\"CONNECT'\n",
       "10. 'load'\n",
       "\n",
       "\n"
      ],
      "text/plain": [
       " [1] \"\\\"GET\"              \"\"                   \"\\\"POST\"            \n",
       " [4] \"\\\"HEAD\"             \"<BADREQ>\"           \"\\\"SSTP_DUPLEX_POST\"\n",
       " [7] \"\\\"OPTIONS\"          \"workload\"           \"\\\"CONNECT\"         \n",
       "[10] \"load\"              "
      ]
     },
     "metadata": {},
     "output_type": "display_data"
    }
   ],
   "source": [
    "(unique(sep[[\"action\"]]))"
   ]
  },
  {
   "cell_type": "code",
   "execution_count": 17,
   "metadata": {},
   "outputs": [
    {
     "data": {
      "text/html": [
       "<style>\n",
       ".list-inline {list-style: none; margin:0; padding: 0}\n",
       ".list-inline>li {display: inline-block}\n",
       ".list-inline>li:not(:last-child)::after {content: \"\\00b7\"; padding: 0 .5ex}\n",
       "</style>\n",
       "<ol class=list-inline><li>'\"GET'</li><li>'\"POST'</li><li>'&lt;BADREQ&gt;'</li><li>''</li><li>'\"HEAD'</li><li>'workload'</li><li>'section'</li><li>'\\'http-request'</li><li>'auth_okay_admin'</li><li>'referenced'</li><li>'\"DELETE'</li><li>'\\'tarpit\\','</li><li>'group'</li><li>'duration:'</li><li>'active'</li><li>'\"OPTIONS'</li><li>'\"SSTP_DUPLEX_POST'</li><li>'HELP'</li><li>'\"CONNECT'</li></ol>\n"
      ],
      "text/latex": [
       "\\begin{enumerate*}\n",
       "\\item '\"GET'\n",
       "\\item '\"POST'\n",
       "\\item '<BADREQ>'\n",
       "\\item ''\n",
       "\\item '\"HEAD'\n",
       "\\item 'workload'\n",
       "\\item 'section'\n",
       "\\item '\\textbackslash{}'http-request'\n",
       "\\item 'auth\\_okay\\_admin'\n",
       "\\item 'referenced'\n",
       "\\item '\"DELETE'\n",
       "\\item '\\textbackslash{}'tarpit\\textbackslash{}','\n",
       "\\item 'group'\n",
       "\\item 'duration:'\n",
       "\\item 'active'\n",
       "\\item '\"OPTIONS'\n",
       "\\item '\"SSTP\\_DUPLEX\\_POST'\n",
       "\\item 'HELP'\n",
       "\\item '\"CONNECT'\n",
       "\\end{enumerate*}\n"
      ],
      "text/markdown": [
       "1. '\"GET'\n",
       "2. '\"POST'\n",
       "3. '&lt;BADREQ&gt;'\n",
       "4. ''\n",
       "5. '\"HEAD'\n",
       "6. 'workload'\n",
       "7. 'section'\n",
       "8. '\\'http-request'\n",
       "9. 'auth_okay_admin'\n",
       "10. 'referenced'\n",
       "11. '\"DELETE'\n",
       "12. '\\'tarpit\\','\n",
       "13. 'group'\n",
       "14. 'duration:'\n",
       "15. 'active'\n",
       "16. '\"OPTIONS'\n",
       "17. '\"SSTP_DUPLEX_POST'\n",
       "18. 'HELP'\n",
       "19. '\"CONNECT'\n",
       "\n",
       "\n"
      ],
      "text/plain": [
       " [1] \"\\\"GET\"              \"\\\"POST\"             \"<BADREQ>\"          \n",
       " [4] \"\"                   \"\\\"HEAD\"             \"workload\"          \n",
       " [7] \"section\"            \"'http-request\"      \"auth_okay_admin\"   \n",
       "[10] \"referenced\"         \"\\\"DELETE\"           \"'tarpit',\"         \n",
       "[13] \"group\"              \"duration:\"          \"active\"            \n",
       "[16] \"\\\"OPTIONS\"          \"\\\"SSTP_DUPLEX_POST\" \"HELP\"              \n",
       "[19] \"\\\"CONNECT\"         "
      ]
     },
     "metadata": {},
     "output_type": "display_data"
    }
   ],
   "source": [
    "(unique(oct[[\"action\"]]))"
   ]
  },
  {
   "cell_type": "code",
   "execution_count": 18,
   "metadata": {},
   "outputs": [
    {
     "data": {
      "image/png": "[encoded data removed]",
      "text/plain": [
       "plot without title"
      ]
     },
     "metadata": {
      "image/png": {
       "height": 420,
       "width": 420
      }
     },
     "output_type": "display_data"
    }
   ],
   "source": [
    "ggplot(data=sep, aes(x=action)) +\n",
    "  geom_bar(fill = \"purple\")"
   ]
  },
  {
   "cell_type": "code",
   "execution_count": 19,
   "metadata": {},
   "outputs": [
    {
     "data": {
      "image/png": "[encoded data removed]",
      "text/plain": [
       "plot without title"
      ]
     },
     "metadata": {
      "image/png": {
       "height": 420,
       "width": 420
      }
     },
     "output_type": "display_data"
    }
   ],
   "source": [
    "ggplot(data=oct, aes(x=action)) +\n",
    "  geom_bar(fill = \"blue\")"
   ]
  },
  {
   "cell_type": "code",
   "execution_count": 20,
   "metadata": {},
   "outputs": [
    {
     "data": {
      "image/png": "[encoded data removed]",
      "text/plain": [
       "plot without title"
      ]
     },
     "metadata": {
      "image/png": {
       "height": 420,
       "width": 420
      }
     },
     "output_type": "display_data"
    }
   ],
   "source": [
    "#test for correlations between \"service\" and \"action\"\n",
    "#merge sep and oct\n",
    "total <- rbind(sep, oct)\n",
    "ggplot(data=total, aes(x=action)) +\n",
    "  geom_bar(fill = \"deeppink\")"
   ]
  },
  {
   "cell_type": "code",
   "execution_count": 21,
   "metadata": {
    "scrolled": true
   },
   "outputs": [
    {
     "data": {
      "image/png": "[encoded data removed]",
      "text/plain": [
       "plot without title"
      ]
     },
     "metadata": {
      "image/png": {
       "height": 420,
       "width": 420
      }
     },
     "output_type": "display_data"
    }
   ],
   "source": [
    "ggplot(data=total, aes(x=service)) +\n",
    "  geom_bar(fill = \"#FF6666\")"
   ]
  },
  {
   "cell_type": "code",
   "execution_count": 22,
   "metadata": {},
   "outputs": [
    {
     "data": {
      "text/html": [
       "<style>\n",
       ".list-inline {list-style: none; margin:0; padding: 0}\n",
       ".list-inline>li {display: inline-block}\n",
       ".list-inline>li:not(:last-child)::after {content: \"\\00b7\"; padding: 0 .5ex}\n",
       "</style>\n",
       "<ol class=list-inline><li>'public/&lt;NOSRV&gt;'</li><li>'SSL'</li><li>'mail_server/srv01'</li><li>'blog_server/srv01'</li><li>'git_server/srv01'</li><li>':'</li><li>''</li><li>'in'</li><li>'(FE:'</li><li>'git_server/&lt;NOSRV&gt;'</li><li>'registry_server/&lt;NOSRV&gt;'</li><li>'registry_server/srv01'</li><li>'DOWN,'</li><li>'no'</li><li>'UP,'</li></ol>\n"
      ],
      "text/latex": [
       "\\begin{enumerate*}\n",
       "\\item 'public/<NOSRV>'\n",
       "\\item 'SSL'\n",
       "\\item 'mail\\_server/srv01'\n",
       "\\item 'blog\\_server/srv01'\n",
       "\\item 'git\\_server/srv01'\n",
       "\\item ':'\n",
       "\\item ''\n",
       "\\item 'in'\n",
       "\\item '(FE:'\n",
       "\\item 'git\\_server/<NOSRV>'\n",
       "\\item 'registry\\_server/<NOSRV>'\n",
       "\\item 'registry\\_server/srv01'\n",
       "\\item 'DOWN,'\n",
       "\\item 'no'\n",
       "\\item 'UP,'\n",
       "\\end{enumerate*}\n"
      ],
      "text/markdown": [
       "1. 'public/&lt;NOSRV&gt;'\n",
       "2. 'SSL'\n",
       "3. 'mail_server/srv01'\n",
       "4. 'blog_server/srv01'\n",
       "5. 'git_server/srv01'\n",
       "6. ':'\n",
       "7. ''\n",
       "8. 'in'\n",
       "9. '(FE:'\n",
       "10. 'git_server/&lt;NOSRV&gt;'\n",
       "11. 'registry_server/&lt;NOSRV&gt;'\n",
       "12. 'registry_server/srv01'\n",
       "13. 'DOWN,'\n",
       "14. 'no'\n",
       "15. 'UP,'\n",
       "\n",
       "\n"
      ],
      "text/plain": [
       " [1] \"public/<NOSRV>\"          \"SSL\"                    \n",
       " [3] \"mail_server/srv01\"       \"blog_server/srv01\"      \n",
       " [5] \"git_server/srv01\"        \":\"                      \n",
       " [7] \"\"                        \"in\"                     \n",
       " [9] \"(FE:\"                    \"git_server/<NOSRV>\"     \n",
       "[11] \"registry_server/<NOSRV>\" \"registry_server/srv01\"  \n",
       "[13] \"DOWN,\"                   \"no\"                     \n",
       "[15] \"UP,\"                    "
      ]
     },
     "metadata": {},
     "output_type": "display_data"
    }
   ],
   "source": [
    "#for starters, want to predict the public/<NOSRV> - ~7500 of these out of 53874\n",
    "#the main one is mail service (legit), lets make an algorithm that correctly predicts public/<NOSRV> as the label 1 (realthreat), \n",
    "#everything else is 0 (no_threat) - as starting point\n",
    "(unique(total[[\"service\"]]))"
   ]
  },
  {
   "cell_type": "code",
   "execution_count": 23,
   "metadata": {},
   "outputs": [],
   "source": [
    "#checking for correlation - errors, incorrect, need to come back to this alter after creating dummies"
   ]
  },
  {
   "cell_type": "code",
   "execution_count": 26,
   "metadata": {},
   "outputs": [],
   "source": [
    "# res <- cor.test(total$action, total$service, method = \"pearson\")\n",
    "# res"
   ]
  },
  {
   "cell_type": "code",
   "execution_count": 27,
   "metadata": {},
   "outputs": [],
   "source": [
    "# chi2 = chisq.test(total$month, total$service)\n",
    "# c(chi2$statistic, chi2$p.value)"
   ]
  },
  {
   "cell_type": "code",
   "execution_count": 28,
   "metadata": {},
   "outputs": [],
   "source": [
    "#!!!!!!!!!!!!!!!1come back to correlation testsing!!!!!!!!!!!!!!!!!"
   ]
  },
  {
   "cell_type": "markdown",
   "metadata": {},
   "source": [
    "### Setup"
   ]
  },
  {
   "cell_type": "code",
   "execution_count": 29,
   "metadata": {
    "scrolled": true
   },
   "outputs": [],
   "source": [
    "df <- dummy_cols(total, select_columns = 'service')\n",
    "#this creates my label column \"service_public/<NOSRV>\" in df"
   ]
  },
  {
   "cell_type": "code",
   "execution_count": 30,
   "metadata": {},
   "outputs": [
    {
     "data": {
      "text/html": [
       "<style>\n",
       ".list-inline {list-style: none; margin:0; padding: 0}\n",
       ".list-inline>li {display: inline-block}\n",
       ".list-inline>li:not(:last-child)::after {content: \"\\00b7\"; padding: 0 .5ex}\n",
       "</style>\n",
       "<ol class=list-inline><li>'month'</li><li>'day'</li><li>'time'</li><li>'source'</li><li>'proxy'</li><li>'ipaddress'</li><li>'timestamp'</li><li>'public'</li><li>'service'</li><li>'seq1'</li><li>'data1'</li><li>'data2'</li><li>'ignore1'</li><li>'ignore2'</li><li>'label1'</li><li>'seq2'</li><li>'seq3'</li><li>'action'</li><li>'note'</li><li>'http'</li><li>'service_'</li><li>'service_:'</li><li>'service_(FE:'</li><li>'service_blog_server/srv01'</li><li>'service_DOWN,'</li><li>'service_git_server/&lt;NOSRV&gt;'</li><li>'service_git_server/srv01'</li><li>'service_in'</li><li>'service_mail_server/srv01'</li><li>'service_no'</li><li>'service_public/&lt;NOSRV&gt;'</li><li>'service_registry_server/&lt;NOSRV&gt;'</li><li>'service_registry_server/srv01'</li><li>'service_SSL'</li><li>'service_UP,'</li></ol>\n"
      ],
      "text/latex": [
       "\\begin{enumerate*}\n",
       "\\item 'month'\n",
       "\\item 'day'\n",
       "\\item 'time'\n",
       "\\item 'source'\n",
       "\\item 'proxy'\n",
       "\\item 'ipaddress'\n",
       "\\item 'timestamp'\n",
       "\\item 'public'\n",
       "\\item 'service'\n",
       "\\item 'seq1'\n",
       "\\item 'data1'\n",
       "\\item 'data2'\n",
       "\\item 'ignore1'\n",
       "\\item 'ignore2'\n",
       "\\item 'label1'\n",
       "\\item 'seq2'\n",
       "\\item 'seq3'\n",
       "\\item 'action'\n",
       "\\item 'note'\n",
       "\\item 'http'\n",
       "\\item 'service\\_'\n",
       "\\item 'service\\_:'\n",
       "\\item 'service\\_(FE:'\n",
       "\\item 'service\\_blog\\_server/srv01'\n",
       "\\item 'service\\_DOWN,'\n",
       "\\item 'service\\_git\\_server/<NOSRV>'\n",
       "\\item 'service\\_git\\_server/srv01'\n",
       "\\item 'service\\_in'\n",
       "\\item 'service\\_mail\\_server/srv01'\n",
       "\\item 'service\\_no'\n",
       "\\item 'service\\_public/<NOSRV>'\n",
       "\\item 'service\\_registry\\_server/<NOSRV>'\n",
       "\\item 'service\\_registry\\_server/srv01'\n",
       "\\item 'service\\_SSL'\n",
       "\\item 'service\\_UP,'\n",
       "\\end{enumerate*}\n"
      ],
      "text/markdown": [
       "1. 'month'\n",
       "2. 'day'\n",
       "3. 'time'\n",
       "4. 'source'\n",
       "5. 'proxy'\n",
       "6. 'ipaddress'\n",
       "7. 'timestamp'\n",
       "8. 'public'\n",
       "9. 'service'\n",
       "10. 'seq1'\n",
       "11. 'data1'\n",
       "12. 'data2'\n",
       "13. 'ignore1'\n",
       "14. 'ignore2'\n",
       "15. 'label1'\n",
       "16. 'seq2'\n",
       "17. 'seq3'\n",
       "18. 'action'\n",
       "19. 'note'\n",
       "20. 'http'\n",
       "21. 'service_'\n",
       "22. 'service_:'\n",
       "23. 'service_(FE:'\n",
       "24. 'service_blog_server/srv01'\n",
       "25. 'service_DOWN,'\n",
       "26. 'service_git_server/&lt;NOSRV&gt;'\n",
       "27. 'service_git_server/srv01'\n",
       "28. 'service_in'\n",
       "29. 'service_mail_server/srv01'\n",
       "30. 'service_no'\n",
       "31. 'service_public/&lt;NOSRV&gt;'\n",
       "32. 'service_registry_server/&lt;NOSRV&gt;'\n",
       "33. 'service_registry_server/srv01'\n",
       "34. 'service_SSL'\n",
       "35. 'service_UP,'\n",
       "\n",
       "\n"
      ],
      "text/plain": [
       " [1] \"month\"                           \"day\"                            \n",
       " [3] \"time\"                            \"source\"                         \n",
       " [5] \"proxy\"                           \"ipaddress\"                      \n",
       " [7] \"timestamp\"                       \"public\"                         \n",
       " [9] \"service\"                         \"seq1\"                           \n",
       "[11] \"data1\"                           \"data2\"                          \n",
       "[13] \"ignore1\"                         \"ignore2\"                        \n",
       "[15] \"label1\"                          \"seq2\"                           \n",
       "[17] \"seq3\"                            \"action\"                         \n",
       "[19] \"note\"                            \"http\"                           \n",
       "[21] \"service_\"                        \"service_:\"                      \n",
       "[23] \"service_(FE:\"                    \"service_blog_server/srv01\"      \n",
       "[25] \"service_DOWN,\"                   \"service_git_server/<NOSRV>\"     \n",
       "[27] \"service_git_server/srv01\"        \"service_in\"                     \n",
       "[29] \"service_mail_server/srv01\"       \"service_no\"                     \n",
       "[31] \"service_public/<NOSRV>\"          \"service_registry_server/<NOSRV>\"\n",
       "[33] \"service_registry_server/srv01\"   \"service_SSL\"                    \n",
       "[35] \"service_UP,\"                    "
      ]
     },
     "metadata": {},
     "output_type": "display_data"
    }
   ],
   "source": [
    "colnames(df)"
   ]
  },
  {
   "cell_type": "code",
   "execution_count": 31,
   "metadata": {},
   "outputs": [
    {
     "data": {
      "text/html": [
       "<style>\n",
       ".list-inline {list-style: none; margin:0; padding: 0}\n",
       ".list-inline>li {display: inline-block}\n",
       ".list-inline>li:not(:last-child)::after {content: \"\\00b7\"; padding: 0 .5ex}\n",
       "</style>\n",
       "<ol class=list-inline><li>'month'</li><li>'day'</li><li>'time'</li><li>'source'</li><li>'proxy'</li><li>'ipaddress'</li><li>'timestamp'</li><li>'public'</li><li>'service'</li><li>'seq1'</li><li>'data1'</li><li>'data2'</li><li>'ignore1'</li><li>'ignore2'</li><li>'label1'</li><li>'seq2'</li><li>'seq3'</li><li>'action'</li><li>'note'</li><li>'http'</li><li>'service_'</li><li>'service_:'</li><li>'service_(FE:'</li><li>'service_blog_server/srv01'</li><li>'service_DOWN,'</li><li>'service_git_server/&lt;NOSRV&gt;'</li><li>'service_git_server/srv01'</li><li>'service_in'</li><li>'service_mail_server/srv01'</li><li>'service_no'</li><li>'threat'</li><li>'service_registry_server/&lt;NOSRV&gt;'</li><li>'service_registry_server/srv01'</li><li>'service_SSL'</li><li>'service_UP,'</li></ol>\n"
      ],
      "text/latex": [
       "\\begin{enumerate*}\n",
       "\\item 'month'\n",
       "\\item 'day'\n",
       "\\item 'time'\n",
       "\\item 'source'\n",
       "\\item 'proxy'\n",
       "\\item 'ipaddress'\n",
       "\\item 'timestamp'\n",
       "\\item 'public'\n",
       "\\item 'service'\n",
       "\\item 'seq1'\n",
       "\\item 'data1'\n",
       "\\item 'data2'\n",
       "\\item 'ignore1'\n",
       "\\item 'ignore2'\n",
       "\\item 'label1'\n",
       "\\item 'seq2'\n",
       "\\item 'seq3'\n",
       "\\item 'action'\n",
       "\\item 'note'\n",
       "\\item 'http'\n",
       "\\item 'service\\_'\n",
       "\\item 'service\\_:'\n",
       "\\item 'service\\_(FE:'\n",
       "\\item 'service\\_blog\\_server/srv01'\n",
       "\\item 'service\\_DOWN,'\n",
       "\\item 'service\\_git\\_server/<NOSRV>'\n",
       "\\item 'service\\_git\\_server/srv01'\n",
       "\\item 'service\\_in'\n",
       "\\item 'service\\_mail\\_server/srv01'\n",
       "\\item 'service\\_no'\n",
       "\\item 'threat'\n",
       "\\item 'service\\_registry\\_server/<NOSRV>'\n",
       "\\item 'service\\_registry\\_server/srv01'\n",
       "\\item 'service\\_SSL'\n",
       "\\item 'service\\_UP,'\n",
       "\\end{enumerate*}\n"
      ],
      "text/markdown": [
       "1. 'month'\n",
       "2. 'day'\n",
       "3. 'time'\n",
       "4. 'source'\n",
       "5. 'proxy'\n",
       "6. 'ipaddress'\n",
       "7. 'timestamp'\n",
       "8. 'public'\n",
       "9. 'service'\n",
       "10. 'seq1'\n",
       "11. 'data1'\n",
       "12. 'data2'\n",
       "13. 'ignore1'\n",
       "14. 'ignore2'\n",
       "15. 'label1'\n",
       "16. 'seq2'\n",
       "17. 'seq3'\n",
       "18. 'action'\n",
       "19. 'note'\n",
       "20. 'http'\n",
       "21. 'service_'\n",
       "22. 'service_:'\n",
       "23. 'service_(FE:'\n",
       "24. 'service_blog_server/srv01'\n",
       "25. 'service_DOWN,'\n",
       "26. 'service_git_server/&lt;NOSRV&gt;'\n",
       "27. 'service_git_server/srv01'\n",
       "28. 'service_in'\n",
       "29. 'service_mail_server/srv01'\n",
       "30. 'service_no'\n",
       "31. 'threat'\n",
       "32. 'service_registry_server/&lt;NOSRV&gt;'\n",
       "33. 'service_registry_server/srv01'\n",
       "34. 'service_SSL'\n",
       "35. 'service_UP,'\n",
       "\n",
       "\n"
      ],
      "text/plain": [
       " [1] \"month\"                           \"day\"                            \n",
       " [3] \"time\"                            \"source\"                         \n",
       " [5] \"proxy\"                           \"ipaddress\"                      \n",
       " [7] \"timestamp\"                       \"public\"                         \n",
       " [9] \"service\"                         \"seq1\"                           \n",
       "[11] \"data1\"                           \"data2\"                          \n",
       "[13] \"ignore1\"                         \"ignore2\"                        \n",
       "[15] \"label1\"                          \"seq2\"                           \n",
       "[17] \"seq3\"                            \"action\"                         \n",
       "[19] \"note\"                            \"http\"                           \n",
       "[21] \"service_\"                        \"service_:\"                      \n",
       "[23] \"service_(FE:\"                    \"service_blog_server/srv01\"      \n",
       "[25] \"service_DOWN,\"                   \"service_git_server/<NOSRV>\"     \n",
       "[27] \"service_git_server/srv01\"        \"service_in\"                     \n",
       "[29] \"service_mail_server/srv01\"       \"service_no\"                     \n",
       "[31] \"threat\"                          \"service_registry_server/<NOSRV>\"\n",
       "[33] \"service_registry_server/srv01\"   \"service_SSL\"                    \n",
       "[35] \"service_UP,\"                    "
      ]
     },
     "metadata": {},
     "output_type": "display_data"
    }
   ],
   "source": [
    "colnames(df)[colnames(df) == \"service_public/<NOSRV>\"] <- \"threat\"\n",
    "colnames(df)\n",
    "#i know have a binary label \"threat\" - now need a detector/classifier model\n",
    "#hypothesis #1 - action type, repeated ipaddress, seq1, data1, data2, label1, seq2, seq3  could be correlated to label \"threat\""
   ]
  },
  {
   "cell_type": "code",
   "execution_count": 33,
   "metadata": {},
   "outputs": [],
   "source": [
    "#for purposes of DEMO, we will skip the detailed stat testing to eliminate variables and solidify model.  \n",
    "#hypthosis # 2 - we we say out top features are action, seq1, data1, and data2 - along any repeated ipaddresses.  \n",
    "#lets at least check for freq of unique ipaddresses b4 modeling"
   ]
  },
  {
   "cell_type": "code",
   "execution_count": 34,
   "metadata": {},
   "outputs": [
    {
     "data": {
      "text/html": [
       "44739"
      ],
      "text/latex": [
       "44739"
      ],
      "text/markdown": [
       "44739"
      ],
      "text/plain": [
       "[1] 44739"
      ]
     },
     "metadata": {},
     "output_type": "display_data"
    }
   ],
   "source": [
    "length(unique(df[[\"ipaddress\"]]))\n",
    "#out of ~53K total, only 44K ipaddresses are unique\n",
    "#~10K are used repeatedly, lets check for the high-runners\n"
   ]
  },
  {
   "cell_type": "code",
   "execution_count": 35,
   "metadata": {},
   "outputs": [
    {
     "data": {
      "text/html": [
       "<table>\n",
       "<caption>A data.frame: 53874 × 36</caption>\n",
       "<thead>\n",
       "\t<tr><th></th><th scope=col>month</th><th scope=col>day</th><th scope=col>time</th><th scope=col>source</th><th scope=col>proxy</th><th scope=col>ipaddress</th><th scope=col>timestamp</th><th scope=col>public</th><th scope=col>service</th><th scope=col>seq1</th><th scope=col>⋯</th><th scope=col>service_git_server.srv01</th><th scope=col>service_in</th><th scope=col>service_mail_server.srv01</th><th scope=col>service_no</th><th scope=col>threat</th><th scope=col>service_registry_server..NOSRV.</th><th scope=col>service_registry_server.srv01</th><th scope=col>service_SSL</th><th scope=col>service_UP.</th><th scope=col>freq</th></tr>\n",
       "\t<tr><th></th><th scope=col>&lt;chr&gt;</th><th scope=col>&lt;chr&gt;</th><th scope=col>&lt;chr&gt;</th><th scope=col>&lt;chr&gt;</th><th scope=col>&lt;chr&gt;</th><th scope=col>&lt;chr&gt;</th><th scope=col>&lt;chr&gt;</th><th scope=col>&lt;chr&gt;</th><th scope=col>&lt;chr&gt;</th><th scope=col>&lt;chr&gt;</th><th scope=col>⋯</th><th scope=col>&lt;int&gt;</th><th scope=col>&lt;int&gt;</th><th scope=col>&lt;int&gt;</th><th scope=col>&lt;int&gt;</th><th scope=col>&lt;int&gt;</th><th scope=col>&lt;int&gt;</th><th scope=col>&lt;int&gt;</th><th scope=col>&lt;int&gt;</th><th scope=col>&lt;int&gt;</th><th scope=col>&lt;int&gt;</th></tr>\n",
       "</thead>\n",
       "<tbody>\n",
       "\t<tr><th scope=row>8018</th><td>Sep</td><td>27</td><td>6:21:39 AM</td><td>cyberwise</td><td>haproxy[18754]:</td><td>Proxy</td><td>public     </td><td>started.</td><td>    </td><td>     </td><td>⋯</td><td>0</td><td>0</td><td>0</td><td>0</td><td>0</td><td>0</td><td>0</td><td>0</td><td>0</td><td>532</td></tr>\n",
       "\t<tr><th scope=row>8019</th><td>Sep</td><td>27</td><td>6:21:39 AM</td><td>cyberwise</td><td>haproxy[18754]:</td><td>Proxy</td><td>public     </td><td>started.</td><td>    </td><td>     </td><td>⋯</td><td>0</td><td>0</td><td>0</td><td>0</td><td>0</td><td>0</td><td>0</td><td>0</td><td>0</td><td>532</td></tr>\n",
       "\t<tr><th scope=row>8020</th><td>Sep</td><td>27</td><td>6:21:39 AM</td><td>cyberwise</td><td>haproxy[18754]:</td><td>Proxy</td><td>mail_server</td><td>started.</td><td>    </td><td>     </td><td>⋯</td><td>0</td><td>0</td><td>0</td><td>0</td><td>0</td><td>0</td><td>0</td><td>0</td><td>0</td><td>532</td></tr>\n",
       "\t<tr><th scope=row>8021</th><td>Sep</td><td>27</td><td>6:21:39 AM</td><td>cyberwise</td><td>haproxy[18754]:</td><td>Proxy</td><td>mail_server</td><td>started.</td><td>    </td><td>     </td><td>⋯</td><td>0</td><td>0</td><td>0</td><td>0</td><td>0</td><td>0</td><td>0</td><td>0</td><td>0</td><td>532</td></tr>\n",
       "\t<tr><th scope=row>8022</th><td>Sep</td><td>27</td><td>6:21:39 AM</td><td>cyberwise</td><td>haproxy[18754]:</td><td>Proxy</td><td>git_server </td><td>started.</td><td>    </td><td>     </td><td>⋯</td><td>0</td><td>0</td><td>0</td><td>0</td><td>0</td><td>0</td><td>0</td><td>0</td><td>0</td><td>532</td></tr>\n",
       "\t<tr><th scope=row>8023</th><td>Sep</td><td>27</td><td>6:21:39 AM</td><td>cyberwise</td><td>haproxy[18754]:</td><td>Proxy</td><td>git_server </td><td>started.</td><td>    </td><td>     </td><td>⋯</td><td>0</td><td>0</td><td>0</td><td>0</td><td>0</td><td>0</td><td>0</td><td>0</td><td>0</td><td>532</td></tr>\n",
       "\t<tr><th scope=row>8024</th><td>Sep</td><td>27</td><td>6:21:39 AM</td><td>cyberwise</td><td>haproxy[18754]:</td><td>Proxy</td><td>blog_server</td><td>started.</td><td>    </td><td>     </td><td>⋯</td><td>0</td><td>0</td><td>0</td><td>0</td><td>0</td><td>0</td><td>0</td><td>0</td><td>0</td><td>532</td></tr>\n",
       "\t<tr><th scope=row>8025</th><td>Sep</td><td>27</td><td>6:21:39 AM</td><td>cyberwise</td><td>haproxy[18754]:</td><td>Proxy</td><td>blog_server</td><td>started.</td><td>    </td><td>     </td><td>⋯</td><td>0</td><td>0</td><td>0</td><td>0</td><td>0</td><td>0</td><td>0</td><td>0</td><td>0</td><td>532</td></tr>\n",
       "\t<tr><th scope=row>8034</th><td>Sep</td><td>27</td><td>6:21:39 AM</td><td>cyberwise</td><td>haproxy[18755]:</td><td>Proxy</td><td>public     </td><td>stopped </td><td>(FE:</td><td>21621</td><td>⋯</td><td>0</td><td>0</td><td>0</td><td>0</td><td>0</td><td>0</td><td>0</td><td>0</td><td>0</td><td>532</td></tr>\n",
       "\t<tr><th scope=row>8035</th><td>Sep</td><td>27</td><td>6:21:39 AM</td><td>cyberwise</td><td>haproxy[18755]:</td><td>Proxy</td><td>public     </td><td>stopped </td><td>(FE:</td><td>21621</td><td>⋯</td><td>0</td><td>0</td><td>0</td><td>0</td><td>0</td><td>0</td><td>0</td><td>0</td><td>0</td><td>532</td></tr>\n",
       "\t<tr><th scope=row>8036</th><td>Sep</td><td>27</td><td>6:21:39 AM</td><td>cyberwise</td><td>haproxy[18755]:</td><td>Proxy</td><td>mail_server</td><td>stopped </td><td>(FE:</td><td>0    </td><td>⋯</td><td>0</td><td>0</td><td>0</td><td>0</td><td>0</td><td>0</td><td>0</td><td>0</td><td>0</td><td>532</td></tr>\n",
       "\t<tr><th scope=row>8037</th><td>Sep</td><td>27</td><td>6:21:39 AM</td><td>cyberwise</td><td>haproxy[18755]:</td><td>Proxy</td><td>mail_server</td><td>stopped </td><td>(FE:</td><td>0    </td><td>⋯</td><td>0</td><td>0</td><td>0</td><td>0</td><td>0</td><td>0</td><td>0</td><td>0</td><td>0</td><td>532</td></tr>\n",
       "\t<tr><th scope=row>8038</th><td>Sep</td><td>27</td><td>6:21:39 AM</td><td>cyberwise</td><td>haproxy[18755]:</td><td>Proxy</td><td>git_server </td><td>stopped </td><td>(FE:</td><td>0    </td><td>⋯</td><td>0</td><td>0</td><td>0</td><td>0</td><td>0</td><td>0</td><td>0</td><td>0</td><td>0</td><td>532</td></tr>\n",
       "\t<tr><th scope=row>8039</th><td>Sep</td><td>27</td><td>6:21:39 AM</td><td>cyberwise</td><td>haproxy[18755]:</td><td>Proxy</td><td>git_server </td><td>stopped </td><td>(FE:</td><td>0    </td><td>⋯</td><td>0</td><td>0</td><td>0</td><td>0</td><td>0</td><td>0</td><td>0</td><td>0</td><td>0</td><td>532</td></tr>\n",
       "\t<tr><th scope=row>8040</th><td>Sep</td><td>27</td><td>6:21:39 AM</td><td>cyberwise</td><td>haproxy[18755]:</td><td>Proxy</td><td>blog_server</td><td>stopped </td><td>(FE:</td><td>0    </td><td>⋯</td><td>0</td><td>0</td><td>0</td><td>0</td><td>0</td><td>0</td><td>0</td><td>0</td><td>0</td><td>532</td></tr>\n",
       "\t<tr><th scope=row>8041</th><td>Sep</td><td>27</td><td>6:21:39 AM</td><td>cyberwise</td><td>haproxy[18755]:</td><td>Proxy</td><td>blog_server</td><td>stopped </td><td>(FE:</td><td>0    </td><td>⋯</td><td>0</td><td>0</td><td>0</td><td>0</td><td>0</td><td>0</td><td>0</td><td>0</td><td>0</td><td>532</td></tr>\n",
       "\t<tr><th scope=row>19823</th><td>Sep</td><td>7 </td><td>9:31:11 AM</td><td>cyberwise</td><td>haproxy[4787]: </td><td>Proxy</td><td>public     </td><td>started.</td><td>    </td><td>     </td><td>⋯</td><td>0</td><td>0</td><td>0</td><td>0</td><td>0</td><td>0</td><td>0</td><td>0</td><td>0</td><td>532</td></tr>\n",
       "\t<tr><th scope=row>19824</th><td>Sep</td><td>7 </td><td>9:31:11 AM</td><td>cyberwise</td><td>haproxy[4787]: </td><td>Proxy</td><td>public     </td><td>started.</td><td>    </td><td>     </td><td>⋯</td><td>0</td><td>0</td><td>0</td><td>0</td><td>0</td><td>0</td><td>0</td><td>0</td><td>0</td><td>532</td></tr>\n",
       "\t<tr><th scope=row>19825</th><td>Sep</td><td>7 </td><td>9:31:11 AM</td><td>cyberwise</td><td>haproxy[4787]: </td><td>Proxy</td><td>mail_server</td><td>started.</td><td>    </td><td>     </td><td>⋯</td><td>0</td><td>0</td><td>0</td><td>0</td><td>0</td><td>0</td><td>0</td><td>0</td><td>0</td><td>532</td></tr>\n",
       "\t<tr><th scope=row>19826</th><td>Sep</td><td>7 </td><td>9:31:11 AM</td><td>cyberwise</td><td>haproxy[4787]: </td><td>Proxy</td><td>mail_server</td><td>started.</td><td>    </td><td>     </td><td>⋯</td><td>0</td><td>0</td><td>0</td><td>0</td><td>0</td><td>0</td><td>0</td><td>0</td><td>0</td><td>532</td></tr>\n",
       "\t<tr><th scope=row>19827</th><td>Sep</td><td>7 </td><td>9:31:11 AM</td><td>cyberwise</td><td>haproxy[4787]: </td><td>Proxy</td><td>git_server </td><td>started.</td><td>    </td><td>     </td><td>⋯</td><td>0</td><td>0</td><td>0</td><td>0</td><td>0</td><td>0</td><td>0</td><td>0</td><td>0</td><td>532</td></tr>\n",
       "\t<tr><th scope=row>19828</th><td>Sep</td><td>7 </td><td>9:31:11 AM</td><td>cyberwise</td><td>haproxy[4787]: </td><td>Proxy</td><td>git_server </td><td>started.</td><td>    </td><td>     </td><td>⋯</td><td>0</td><td>0</td><td>0</td><td>0</td><td>0</td><td>0</td><td>0</td><td>0</td><td>0</td><td>532</td></tr>\n",
       "\t<tr><th scope=row>19829</th><td>Sep</td><td>7 </td><td>9:31:11 AM</td><td>cyberwise</td><td>haproxy[4787]: </td><td>Proxy</td><td>blog_server</td><td>started.</td><td>    </td><td>     </td><td>⋯</td><td>0</td><td>0</td><td>0</td><td>0</td><td>0</td><td>0</td><td>0</td><td>0</td><td>0</td><td>532</td></tr>\n",
       "\t<tr><th scope=row>19830</th><td>Sep</td><td>7 </td><td>9:31:11 AM</td><td>cyberwise</td><td>haproxy[4787]: </td><td>Proxy</td><td>blog_server</td><td>started.</td><td>    </td><td>     </td><td>⋯</td><td>0</td><td>0</td><td>0</td><td>0</td><td>0</td><td>0</td><td>0</td><td>0</td><td>0</td><td>532</td></tr>\n",
       "\t<tr><th scope=row>19839</th><td>Sep</td><td>7 </td><td>9:31:11 AM</td><td>cyberwise</td><td>haproxy[4788]: </td><td>Proxy</td><td>public     </td><td>stopped </td><td>(FE:</td><td>84219</td><td>⋯</td><td>0</td><td>0</td><td>0</td><td>0</td><td>0</td><td>0</td><td>0</td><td>0</td><td>0</td><td>532</td></tr>\n",
       "\t<tr><th scope=row>19840</th><td>Sep</td><td>7 </td><td>9:31:11 AM</td><td>cyberwise</td><td>haproxy[4788]: </td><td>Proxy</td><td>public     </td><td>stopped </td><td>(FE:</td><td>84219</td><td>⋯</td><td>0</td><td>0</td><td>0</td><td>0</td><td>0</td><td>0</td><td>0</td><td>0</td><td>0</td><td>532</td></tr>\n",
       "\t<tr><th scope=row>19841</th><td>Sep</td><td>7 </td><td>9:31:11 AM</td><td>cyberwise</td><td>haproxy[4788]: </td><td>Proxy</td><td>mail_server</td><td>stopped </td><td>(FE:</td><td>0    </td><td>⋯</td><td>0</td><td>0</td><td>0</td><td>0</td><td>0</td><td>0</td><td>0</td><td>0</td><td>0</td><td>532</td></tr>\n",
       "\t<tr><th scope=row>19842</th><td>Sep</td><td>7 </td><td>9:31:11 AM</td><td>cyberwise</td><td>haproxy[4788]: </td><td>Proxy</td><td>mail_server</td><td>stopped </td><td>(FE:</td><td>0    </td><td>⋯</td><td>0</td><td>0</td><td>0</td><td>0</td><td>0</td><td>0</td><td>0</td><td>0</td><td>0</td><td>532</td></tr>\n",
       "\t<tr><th scope=row>19843</th><td>Sep</td><td>7 </td><td>9:31:11 AM</td><td>cyberwise</td><td>haproxy[4788]: </td><td>Proxy</td><td>git_server </td><td>stopped </td><td>(FE:</td><td>0    </td><td>⋯</td><td>0</td><td>0</td><td>0</td><td>0</td><td>0</td><td>0</td><td>0</td><td>0</td><td>0</td><td>532</td></tr>\n",
       "\t<tr><th scope=row>19844</th><td>Sep</td><td>7 </td><td>9:31:11 AM</td><td>cyberwise</td><td>haproxy[4788]: </td><td>Proxy</td><td>git_server </td><td>stopped </td><td>(FE:</td><td>0    </td><td>⋯</td><td>0</td><td>0</td><td>0</td><td>0</td><td>0</td><td>0</td><td>0</td><td>0</td><td>0</td><td>532</td></tr>\n",
       "\t<tr><th scope=row>⋮</th><td>⋮</td><td>⋮</td><td>⋮</td><td>⋮</td><td>⋮</td><td>⋮</td><td>⋮</td><td>⋮</td><td>⋮</td><td>⋮</td><td>⋱</td><td>⋮</td><td>⋮</td><td>⋮</td><td>⋮</td><td>⋮</td><td>⋮</td><td>⋮</td><td>⋮</td><td>⋮</td><td>⋮</td></tr>\n",
       "\t<tr><th scope=row>53845</th><td>Oct</td><td>13</td><td>6:03:04 PM </td><td>cyberwise</td><td>haproxy[21587]:</td><td>193.40.241.17:30562  </td><td>[13/Oct/2020:18:03:04.401]</td><td>public~  </td><td>mail_server/srv01</td><td>0/0/2/157/159  </td><td>⋯</td><td>0</td><td>0</td><td>1</td><td>0</td><td>0</td><td>0</td><td>0</td><td>0</td><td>0</td><td>1</td></tr>\n",
       "\t<tr><th scope=row>53846</th><td>Oct</td><td>13</td><td>6:04:04 PM </td><td>cyberwise</td><td>haproxy[21587]:</td><td>193.40.241.17:52353  </td><td>[13/Oct/2020:18:04:04.385]</td><td>public~  </td><td>mail_server/srv01</td><td>0/0/1/166/167  </td><td>⋯</td><td>0</td><td>0</td><td>1</td><td>0</td><td>0</td><td>0</td><td>0</td><td>0</td><td>0</td><td>1</td></tr>\n",
       "\t<tr><th scope=row>53847</th><td>Oct</td><td>13</td><td>6:05:04 PM </td><td>cyberwise</td><td>haproxy[21587]:</td><td>193.40.241.17:45579  </td><td>[13/Oct/2020:18:05:04.387]</td><td>public~  </td><td>mail_server/srv01</td><td>0/0/1/162/163  </td><td>⋯</td><td>0</td><td>0</td><td>1</td><td>0</td><td>0</td><td>0</td><td>0</td><td>0</td><td>0</td><td>1</td></tr>\n",
       "\t<tr><th scope=row>53848</th><td>Oct</td><td>13</td><td>6:07:04 PM </td><td>cyberwise</td><td>haproxy[21587]:</td><td>193.40.241.17:58110  </td><td>[13/Oct/2020:18:07:04.387]</td><td>public~  </td><td>mail_server/srv01</td><td>0/0/1/178/180  </td><td>⋯</td><td>0</td><td>0</td><td>1</td><td>0</td><td>0</td><td>0</td><td>0</td><td>0</td><td>0</td><td>1</td></tr>\n",
       "\t<tr><th scope=row>53849</th><td>Oct</td><td>13</td><td>6:09:04 PM </td><td>cyberwise</td><td>haproxy[21587]:</td><td>193.40.241.17:6122   </td><td>[13/Oct/2020:18:09:04.388]</td><td>public~  </td><td>mail_server/srv01</td><td>0/0/1/159/164  </td><td>⋯</td><td>0</td><td>0</td><td>1</td><td>0</td><td>0</td><td>0</td><td>0</td><td>0</td><td>0</td><td>1</td></tr>\n",
       "\t<tr><th scope=row>53850</th><td>Oct</td><td>13</td><td>6:10:04 PM </td><td>cyberwise</td><td>haproxy[21587]:</td><td>193.40.241.17:56618  </td><td>[13/Oct/2020:18:10:04.396]</td><td>public~  </td><td>mail_server/srv01</td><td>0/0/2/159/161  </td><td>⋯</td><td>0</td><td>0</td><td>1</td><td>0</td><td>0</td><td>0</td><td>0</td><td>0</td><td>0</td><td>1</td></tr>\n",
       "\t<tr><th scope=row>53851</th><td>Oct</td><td>13</td><td>6:11:04 PM </td><td>cyberwise</td><td>haproxy[21587]:</td><td>193.40.241.17:9903   </td><td>[13/Oct/2020:18:11:04.383]</td><td>public~  </td><td>mail_server/srv01</td><td>0/0/1/156/157  </td><td>⋯</td><td>0</td><td>0</td><td>1</td><td>0</td><td>0</td><td>0</td><td>0</td><td>0</td><td>0</td><td>1</td></tr>\n",
       "\t<tr><th scope=row>53852</th><td>Oct</td><td>13</td><td>6:13:04 PM </td><td>cyberwise</td><td>haproxy[21587]:</td><td>193.40.241.17:62226  </td><td>[13/Oct/2020:18:13:04.385]</td><td>public~  </td><td>mail_server/srv01</td><td>0/0/1/160/161  </td><td>⋯</td><td>0</td><td>0</td><td>1</td><td>0</td><td>0</td><td>0</td><td>0</td><td>0</td><td>0</td><td>1</td></tr>\n",
       "\t<tr><th scope=row>53853</th><td>Oct</td><td>13</td><td>6:50:12 PM </td><td>cyberwise</td><td>haproxy[21587]:</td><td><span style=white-space:pre-wrap>42.239.10.178:36825  </span></td><td>[13/Oct/2020:18:50:12.495]</td><td><span style=white-space:pre-wrap>public   </span></td><td><span style=white-space:pre-wrap>public/&lt;NOSRV&gt;   </span></td><td><span style=white-space:pre-wrap>-1/-1/-1/-1/0  </span></td><td>⋯</td><td>0</td><td>0</td><td>0</td><td>0</td><td>1</td><td>0</td><td>0</td><td>0</td><td>0</td><td>1</td></tr>\n",
       "\t<tr><th scope=row>53854</th><td>Oct</td><td>13</td><td>7:37:08 PM </td><td>cyberwise</td><td>haproxy[21587]:</td><td><span style=white-space:pre-wrap>83.97.20.30:35537    </span></td><td>[13/Oct/2020:19:37:08.060]</td><td><span style=white-space:pre-wrap>public~  </span></td><td><span style=white-space:pre-wrap>public/&lt;NOSRV&gt;   </span></td><td><span style=white-space:pre-wrap>-1/-1/-1/-1/0  </span></td><td>⋯</td><td>0</td><td>0</td><td>0</td><td>0</td><td>1</td><td>0</td><td>0</td><td>0</td><td>0</td><td>1</td></tr>\n",
       "\t<tr><th scope=row>53855</th><td>Oct</td><td>13</td><td>7:56:43 PM </td><td>cyberwise</td><td>haproxy[21587]:</td><td><span style=white-space:pre-wrap>177.74.156.22:32713  </span></td><td>[13/Oct/2020:19:56:43.571]</td><td><span style=white-space:pre-wrap>public   </span></td><td><span style=white-space:pre-wrap>public/&lt;NOSRV&gt;   </span></td><td><span style=white-space:pre-wrap>-1/-1/-1/-1/0  </span></td><td>⋯</td><td>0</td><td>0</td><td>0</td><td>0</td><td>1</td><td>0</td><td>0</td><td>0</td><td>0</td><td>1</td></tr>\n",
       "\t<tr><th scope=row>53856</th><td>Oct</td><td>13</td><td>8:17:04 PM </td><td>cyberwise</td><td>haproxy[21587]:</td><td><span style=white-space:pre-wrap>54.219.74.159:45356  </span></td><td>[13/Oct/2020:20:17:04.729]</td><td><span style=white-space:pre-wrap>public~  </span></td><td><span style=white-space:pre-wrap>public/&lt;NOSRV&gt;   </span></td><td><span style=white-space:pre-wrap>-1/-1/-1/-1/0  </span></td><td>⋯</td><td>0</td><td>0</td><td>0</td><td>0</td><td>1</td><td>0</td><td>0</td><td>0</td><td>0</td><td>1</td></tr>\n",
       "\t<tr><th scope=row>53857</th><td>Oct</td><td>13</td><td>8:26:20 PM </td><td>cyberwise</td><td>haproxy[21587]:</td><td><span style=white-space:pre-wrap>52.26.117.26:33474   </span></td><td>[13/Oct/2020:20:26:20.067]</td><td><span style=white-space:pre-wrap>public   </span></td><td><span style=white-space:pre-wrap>public/&lt;NOSRV&gt;   </span></td><td><span style=white-space:pre-wrap>-1/-1/-1/-1/0  </span></td><td>⋯</td><td>0</td><td>0</td><td>0</td><td>0</td><td>1</td><td>0</td><td>0</td><td>0</td><td>0</td><td>1</td></tr>\n",
       "\t<tr><th scope=row>53858</th><td>Oct</td><td>13</td><td>8:41:19 PM </td><td>cyberwise</td><td>haproxy[21587]:</td><td>186.69.215.191:39328 </td><td>[13/Oct/2020:20:41:18.879]</td><td><span style=white-space:pre-wrap>public   </span></td><td><span style=white-space:pre-wrap>public/&lt;NOSRV&gt;   </span></td><td>-1/-1/-1/-1/199</td><td>⋯</td><td>0</td><td>0</td><td>0</td><td>0</td><td>1</td><td>0</td><td>0</td><td>0</td><td>0</td><td>1</td></tr>\n",
       "\t<tr><th scope=row>53859</th><td>Oct</td><td>13</td><td>8:48:31 PM </td><td>cyberwise</td><td>haproxy[21587]:</td><td>192.241.221.78:60234 </td><td>[13/Oct/2020:20:48:31.245]</td><td><span style=white-space:pre-wrap>public   </span></td><td><span style=white-space:pre-wrap>public/&lt;NOSRV&gt;   </span></td><td><span style=white-space:pre-wrap>-1/-1/-1/-1/0  </span></td><td>⋯</td><td>0</td><td>0</td><td>0</td><td>0</td><td>1</td><td>0</td><td>0</td><td>0</td><td>0</td><td>1</td></tr>\n",
       "\t<tr><th scope=row>53860</th><td>Oct</td><td>13</td><td>9:00:22 PM </td><td>cyberwise</td><td>haproxy[21587]:</td><td>193.40.241.27:61178  </td><td>[13/Oct/2020:21:00:22.251]</td><td>public~  </td><td>mail_server/srv01</td><td>0/0/1/260/261  </td><td>⋯</td><td>0</td><td>0</td><td>1</td><td>0</td><td>0</td><td>0</td><td>0</td><td>0</td><td>0</td><td>1</td></tr>\n",
       "\t<tr><th scope=row>53861</th><td>Oct</td><td>13</td><td>9:00:22 PM </td><td>cyberwise</td><td>haproxy[21587]:</td><td>193.40.241.27:52720  </td><td>[13/Oct/2020:21:00:22.674]</td><td>public~  </td><td>mail_server/srv01</td><td>0/0/1/251/252  </td><td>⋯</td><td>0</td><td>0</td><td>1</td><td>0</td><td>0</td><td>0</td><td>0</td><td>0</td><td>0</td><td>1</td></tr>\n",
       "\t<tr><th scope=row>53862</th><td>Oct</td><td>13</td><td>9:00:23 PM </td><td>cyberwise</td><td>haproxy[21587]:</td><td>193.40.241.27:52087  </td><td>[13/Oct/2020:21:00:23.110]</td><td>public~  </td><td>mail_server/srv01</td><td>0/0/1/180/181  </td><td>⋯</td><td>0</td><td>0</td><td>1</td><td>0</td><td>0</td><td>0</td><td>0</td><td>0</td><td>0</td><td>1</td></tr>\n",
       "\t<tr><th scope=row>53863</th><td>Oct</td><td>13</td><td>9:01:24 PM </td><td>cyberwise</td><td>haproxy[21587]:</td><td>193.40.241.27:32548  </td><td>[13/Oct/2020:21:01:23.998]</td><td>public~  </td><td>mail_server/srv01</td><td>0/0/1/271/273  </td><td>⋯</td><td>0</td><td>0</td><td>1</td><td>0</td><td>0</td><td>0</td><td>0</td><td>0</td><td>0</td><td>1</td></tr>\n",
       "\t<tr><th scope=row>53864</th><td>Oct</td><td>13</td><td>9:29:12 PM </td><td>cyberwise</td><td>haproxy[21587]:</td><td>104.131.178.142:53930</td><td>[13/Oct/2020:21:29:12.301]</td><td><span style=white-space:pre-wrap>public   </span></td><td><span style=white-space:pre-wrap>public/&lt;NOSRV&gt;   </span></td><td><span style=white-space:pre-wrap>-1/-1/-1/-1/0  </span></td><td>⋯</td><td>0</td><td>0</td><td>0</td><td>0</td><td>1</td><td>0</td><td>0</td><td>0</td><td>0</td><td>1</td></tr>\n",
       "\t<tr><th scope=row>53865</th><td>Oct</td><td>13</td><td>10:03:56 PM</td><td>cyberwise</td><td>haproxy[21587]:</td><td>190.10.175.206:37707 </td><td>[13/Oct/2020:22:03:56.698]</td><td><span style=white-space:pre-wrap>public   </span></td><td><span style=white-space:pre-wrap>public/&lt;NOSRV&gt;   </span></td><td>-1/-1/-1/-1/199</td><td>⋯</td><td>0</td><td>0</td><td>0</td><td>0</td><td>1</td><td>0</td><td>0</td><td>0</td><td>0</td><td>1</td></tr>\n",
       "\t<tr><th scope=row>53866</th><td>Oct</td><td>13</td><td>10:20:28 PM</td><td>cyberwise</td><td>haproxy[21587]:</td><td><span style=white-space:pre-wrap>213.6.61.219:58811   </span></td><td>[13/Oct/2020:22:20:28.733]</td><td><span style=white-space:pre-wrap>public~  </span></td><td><span style=white-space:pre-wrap>public/&lt;NOSRV&gt;   </span></td><td><span style=white-space:pre-wrap>-1/-1/-1/-1/0  </span></td><td>⋯</td><td>0</td><td>0</td><td>0</td><td>0</td><td>1</td><td>0</td><td>0</td><td>0</td><td>0</td><td>1</td></tr>\n",
       "\t<tr><th scope=row>53867</th><td>Oct</td><td>13</td><td>11:17:10 PM</td><td>cyberwise</td><td>haproxy[21587]:</td><td>185.132.53.161:59522 </td><td>[13/Oct/2020:23:17:10.156]</td><td><span style=white-space:pre-wrap>public~  </span></td><td><span style=white-space:pre-wrap>public/&lt;NOSRV&gt;   </span></td><td><span style=white-space:pre-wrap>-1/-1/-1/-1/1  </span></td><td>⋯</td><td>0</td><td>0</td><td>0</td><td>0</td><td>1</td><td>0</td><td>0</td><td>0</td><td>0</td><td>1</td></tr>\n",
       "\t<tr><th scope=row>53868</th><td>Oct</td><td>13</td><td>11:19:33 PM</td><td>cyberwise</td><td>haproxy[21587]:</td><td><span style=white-space:pre-wrap>51.103.46.1:63370    </span></td><td>[13/Oct/2020:23:19:33.745]</td><td><span style=white-space:pre-wrap>public   </span></td><td><span style=white-space:pre-wrap>public/&lt;NOSRV&gt;   </span></td><td><span style=white-space:pre-wrap>-1/-1/-1/-1/0  </span></td><td>⋯</td><td>0</td><td>0</td><td>0</td><td>0</td><td>1</td><td>0</td><td>0</td><td>0</td><td>0</td><td>1</td></tr>\n",
       "\t<tr><th scope=row>53869</th><td>Oct</td><td>13</td><td>11:23:29 PM</td><td>cyberwise</td><td>haproxy[21587]:</td><td>195.37.190.89:57600  </td><td>[13/Oct/2020:23:23:27.913]</td><td>public/2:</td><td>SSL              </td><td>handshake      </td><td>⋯</td><td>0</td><td>0</td><td>0</td><td>0</td><td>0</td><td>0</td><td>0</td><td>1</td><td>0</td><td>1</td></tr>\n",
       "\t<tr><th scope=row>53870</th><td>Oct</td><td>13</td><td>11:24:48 PM</td><td>cyberwise</td><td>haproxy[21587]:</td><td>34.208.242.140:56574 </td><td>[13/Oct/2020:23:24:48.159]</td><td><span style=white-space:pre-wrap>public   </span></td><td><span style=white-space:pre-wrap>public/&lt;NOSRV&gt;   </span></td><td><span style=white-space:pre-wrap>-1/-1/-1/-1/0  </span></td><td>⋯</td><td>0</td><td>0</td><td>0</td><td>0</td><td>1</td><td>0</td><td>0</td><td>0</td><td>0</td><td>1</td></tr>\n",
       "\t<tr><th scope=row>53871</th><td>Oct</td><td>13</td><td>11:32:01 PM</td><td>cyberwise</td><td>haproxy[21587]:</td><td>45.33.80.76:45996    </td><td>[13/Oct/2020:23:32:01.248]</td><td>public/2:</td><td>SSL              </td><td>handshake      </td><td>⋯</td><td>0</td><td>0</td><td>0</td><td>0</td><td>0</td><td>0</td><td>0</td><td>1</td><td>0</td><td>1</td></tr>\n",
       "\t<tr><th scope=row>53872</th><td>Oct</td><td>13</td><td>11:35:23 PM</td><td>cyberwise</td><td>haproxy[21587]:</td><td>190.154.208.71:50550 </td><td>[13/Oct/2020:23:35:23.686]</td><td><span style=white-space:pre-wrap>public   </span></td><td><span style=white-space:pre-wrap>public/&lt;NOSRV&gt;   </span></td><td>-1/-1/-1/-1/210</td><td>⋯</td><td>0</td><td>0</td><td>0</td><td>0</td><td>1</td><td>0</td><td>0</td><td>0</td><td>0</td><td>1</td></tr>\n",
       "\t<tr><th scope=row>53873</th><td>Oct</td><td>13</td><td>11:36:06 PM</td><td>cyberwise</td><td>haproxy[21587]:</td><td>51.103.46.1:58437    </td><td>[13/Oct/2020:23:36:06.585]</td><td>public/2:</td><td>SSL              </td><td>handshake      </td><td>⋯</td><td>0</td><td>0</td><td>0</td><td>0</td><td>0</td><td>0</td><td>0</td><td>1</td><td>0</td><td>1</td></tr>\n",
       "\t<tr><th scope=row>53874</th><td>Oct</td><td>13</td><td>11:46:41 PM</td><td>cyberwise</td><td>haproxy[21587]:</td><td><span style=white-space:pre-wrap>128.14.133.58:35998  </span></td><td>[13/Oct/2020:23:46:41.547]</td><td><span style=white-space:pre-wrap>public~  </span></td><td><span style=white-space:pre-wrap>public/&lt;NOSRV&gt;   </span></td><td><span style=white-space:pre-wrap>-1/-1/-1/-1/0  </span></td><td>⋯</td><td>0</td><td>0</td><td>0</td><td>0</td><td>1</td><td>0</td><td>0</td><td>0</td><td>0</td><td>1</td></tr>\n",
       "</tbody>\n",
       "</table>\n"
      ],
      "text/latex": [
       "A data.frame: 53874 × 36\n",
       "\\begin{tabular}{r|lllllllllllllllllllll}\n",
       "  & month & day & time & source & proxy & ipaddress & timestamp & public & service & seq1 & ⋯ & service\\_git\\_server.srv01 & service\\_in & service\\_mail\\_server.srv01 & service\\_no & threat & service\\_registry\\_server..NOSRV. & service\\_registry\\_server.srv01 & service\\_SSL & service\\_UP. & freq\\\\\n",
       "  & <chr> & <chr> & <chr> & <chr> & <chr> & <chr> & <chr> & <chr> & <chr> & <chr> & ⋯ & <int> & <int> & <int> & <int> & <int> & <int> & <int> & <int> & <int> & <int>\\\\\n",
       "\\hline\n",
       "\t8018 & Sep & 27 & 6:21:39 AM & cyberwise & haproxy{[}18754{]}: & Proxy & public      & started. &      &       & ⋯ & 0 & 0 & 0 & 0 & 0 & 0 & 0 & 0 & 0 & 532\\\\\n",
       "\t8019 & Sep & 27 & 6:21:39 AM & cyberwise & haproxy{[}18754{]}: & Proxy & public      & started. &      &       & ⋯ & 0 & 0 & 0 & 0 & 0 & 0 & 0 & 0 & 0 & 532\\\\\n",
       "\t8020 & Sep & 27 & 6:21:39 AM & cyberwise & haproxy{[}18754{]}: & Proxy & mail\\_server & started. &      &       & ⋯ & 0 & 0 & 0 & 0 & 0 & 0 & 0 & 0 & 0 & 532\\\\\n",
       "\t8021 & Sep & 27 & 6:21:39 AM & cyberwise & haproxy{[}18754{]}: & Proxy & mail\\_server & started. &      &       & ⋯ & 0 & 0 & 0 & 0 & 0 & 0 & 0 & 0 & 0 & 532\\\\\n",
       "\t8022 & Sep & 27 & 6:21:39 AM & cyberwise & haproxy{[}18754{]}: & Proxy & git\\_server  & started. &      &       & ⋯ & 0 & 0 & 0 & 0 & 0 & 0 & 0 & 0 & 0 & 532\\\\\n",
       "\t8023 & Sep & 27 & 6:21:39 AM & cyberwise & haproxy{[}18754{]}: & Proxy & git\\_server  & started. &      &       & ⋯ & 0 & 0 & 0 & 0 & 0 & 0 & 0 & 0 & 0 & 532\\\\\n",
       "\t8024 & Sep & 27 & 6:21:39 AM & cyberwise & haproxy{[}18754{]}: & Proxy & blog\\_server & started. &      &       & ⋯ & 0 & 0 & 0 & 0 & 0 & 0 & 0 & 0 & 0 & 532\\\\\n",
       "\t8025 & Sep & 27 & 6:21:39 AM & cyberwise & haproxy{[}18754{]}: & Proxy & blog\\_server & started. &      &       & ⋯ & 0 & 0 & 0 & 0 & 0 & 0 & 0 & 0 & 0 & 532\\\\\n",
       "\t8034 & Sep & 27 & 6:21:39 AM & cyberwise & haproxy{[}18755{]}: & Proxy & public      & stopped  & (FE: & 21621 & ⋯ & 0 & 0 & 0 & 0 & 0 & 0 & 0 & 0 & 0 & 532\\\\\n",
       "\t8035 & Sep & 27 & 6:21:39 AM & cyberwise & haproxy{[}18755{]}: & Proxy & public      & stopped  & (FE: & 21621 & ⋯ & 0 & 0 & 0 & 0 & 0 & 0 & 0 & 0 & 0 & 532\\\\\n",
       "\t8036 & Sep & 27 & 6:21:39 AM & cyberwise & haproxy{[}18755{]}: & Proxy & mail\\_server & stopped  & (FE: & 0     & ⋯ & 0 & 0 & 0 & 0 & 0 & 0 & 0 & 0 & 0 & 532\\\\\n",
       "\t8037 & Sep & 27 & 6:21:39 AM & cyberwise & haproxy{[}18755{]}: & Proxy & mail\\_server & stopped  & (FE: & 0     & ⋯ & 0 & 0 & 0 & 0 & 0 & 0 & 0 & 0 & 0 & 532\\\\\n",
       "\t8038 & Sep & 27 & 6:21:39 AM & cyberwise & haproxy{[}18755{]}: & Proxy & git\\_server  & stopped  & (FE: & 0     & ⋯ & 0 & 0 & 0 & 0 & 0 & 0 & 0 & 0 & 0 & 532\\\\\n",
       "\t8039 & Sep & 27 & 6:21:39 AM & cyberwise & haproxy{[}18755{]}: & Proxy & git\\_server  & stopped  & (FE: & 0     & ⋯ & 0 & 0 & 0 & 0 & 0 & 0 & 0 & 0 & 0 & 532\\\\\n",
       "\t8040 & Sep & 27 & 6:21:39 AM & cyberwise & haproxy{[}18755{]}: & Proxy & blog\\_server & stopped  & (FE: & 0     & ⋯ & 0 & 0 & 0 & 0 & 0 & 0 & 0 & 0 & 0 & 532\\\\\n",
       "\t8041 & Sep & 27 & 6:21:39 AM & cyberwise & haproxy{[}18755{]}: & Proxy & blog\\_server & stopped  & (FE: & 0     & ⋯ & 0 & 0 & 0 & 0 & 0 & 0 & 0 & 0 & 0 & 532\\\\\n",
       "\t19823 & Sep & 7  & 9:31:11 AM & cyberwise & haproxy{[}4787{]}:  & Proxy & public      & started. &      &       & ⋯ & 0 & 0 & 0 & 0 & 0 & 0 & 0 & 0 & 0 & 532\\\\\n",
       "\t19824 & Sep & 7  & 9:31:11 AM & cyberwise & haproxy{[}4787{]}:  & Proxy & public      & started. &      &       & ⋯ & 0 & 0 & 0 & 0 & 0 & 0 & 0 & 0 & 0 & 532\\\\\n",
       "\t19825 & Sep & 7  & 9:31:11 AM & cyberwise & haproxy{[}4787{]}:  & Proxy & mail\\_server & started. &      &       & ⋯ & 0 & 0 & 0 & 0 & 0 & 0 & 0 & 0 & 0 & 532\\\\\n",
       "\t19826 & Sep & 7  & 9:31:11 AM & cyberwise & haproxy{[}4787{]}:  & Proxy & mail\\_server & started. &      &       & ⋯ & 0 & 0 & 0 & 0 & 0 & 0 & 0 & 0 & 0 & 532\\\\\n",
       "\t19827 & Sep & 7  & 9:31:11 AM & cyberwise & haproxy{[}4787{]}:  & Proxy & git\\_server  & started. &      &       & ⋯ & 0 & 0 & 0 & 0 & 0 & 0 & 0 & 0 & 0 & 532\\\\\n",
       "\t19828 & Sep & 7  & 9:31:11 AM & cyberwise & haproxy{[}4787{]}:  & Proxy & git\\_server  & started. &      &       & ⋯ & 0 & 0 & 0 & 0 & 0 & 0 & 0 & 0 & 0 & 532\\\\\n",
       "\t19829 & Sep & 7  & 9:31:11 AM & cyberwise & haproxy{[}4787{]}:  & Proxy & blog\\_server & started. &      &       & ⋯ & 0 & 0 & 0 & 0 & 0 & 0 & 0 & 0 & 0 & 532\\\\\n",
       "\t19830 & Sep & 7  & 9:31:11 AM & cyberwise & haproxy{[}4787{]}:  & Proxy & blog\\_server & started. &      &       & ⋯ & 0 & 0 & 0 & 0 & 0 & 0 & 0 & 0 & 0 & 532\\\\\n",
       "\t19839 & Sep & 7  & 9:31:11 AM & cyberwise & haproxy{[}4788{]}:  & Proxy & public      & stopped  & (FE: & 84219 & ⋯ & 0 & 0 & 0 & 0 & 0 & 0 & 0 & 0 & 0 & 532\\\\\n",
       "\t19840 & Sep & 7  & 9:31:11 AM & cyberwise & haproxy{[}4788{]}:  & Proxy & public      & stopped  & (FE: & 84219 & ⋯ & 0 & 0 & 0 & 0 & 0 & 0 & 0 & 0 & 0 & 532\\\\\n",
       "\t19841 & Sep & 7  & 9:31:11 AM & cyberwise & haproxy{[}4788{]}:  & Proxy & mail\\_server & stopped  & (FE: & 0     & ⋯ & 0 & 0 & 0 & 0 & 0 & 0 & 0 & 0 & 0 & 532\\\\\n",
       "\t19842 & Sep & 7  & 9:31:11 AM & cyberwise & haproxy{[}4788{]}:  & Proxy & mail\\_server & stopped  & (FE: & 0     & ⋯ & 0 & 0 & 0 & 0 & 0 & 0 & 0 & 0 & 0 & 532\\\\\n",
       "\t19843 & Sep & 7  & 9:31:11 AM & cyberwise & haproxy{[}4788{]}:  & Proxy & git\\_server  & stopped  & (FE: & 0     & ⋯ & 0 & 0 & 0 & 0 & 0 & 0 & 0 & 0 & 0 & 532\\\\\n",
       "\t19844 & Sep & 7  & 9:31:11 AM & cyberwise & haproxy{[}4788{]}:  & Proxy & git\\_server  & stopped  & (FE: & 0     & ⋯ & 0 & 0 & 0 & 0 & 0 & 0 & 0 & 0 & 0 & 532\\\\\n",
       "\t⋮ & ⋮ & ⋮ & ⋮ & ⋮ & ⋮ & ⋮ & ⋮ & ⋮ & ⋮ & ⋮ & ⋱ & ⋮ & ⋮ & ⋮ & ⋮ & ⋮ & ⋮ & ⋮ & ⋮ & ⋮ & ⋮\\\\\n",
       "\t53845 & Oct & 13 & 6:03:04 PM  & cyberwise & haproxy{[}21587{]}: & 193.40.241.17:30562   & {[}13/Oct/2020:18:03:04.401{]} & public\\textasciitilde{}   & mail\\_server/srv01 & 0/0/2/157/159   & ⋯ & 0 & 0 & 1 & 0 & 0 & 0 & 0 & 0 & 0 & 1\\\\\n",
       "\t53846 & Oct & 13 & 6:04:04 PM  & cyberwise & haproxy{[}21587{]}: & 193.40.241.17:52353   & {[}13/Oct/2020:18:04:04.385{]} & public\\textasciitilde{}   & mail\\_server/srv01 & 0/0/1/166/167   & ⋯ & 0 & 0 & 1 & 0 & 0 & 0 & 0 & 0 & 0 & 1\\\\\n",
       "\t53847 & Oct & 13 & 6:05:04 PM  & cyberwise & haproxy{[}21587{]}: & 193.40.241.17:45579   & {[}13/Oct/2020:18:05:04.387{]} & public\\textasciitilde{}   & mail\\_server/srv01 & 0/0/1/162/163   & ⋯ & 0 & 0 & 1 & 0 & 0 & 0 & 0 & 0 & 0 & 1\\\\\n",
       "\t53848 & Oct & 13 & 6:07:04 PM  & cyberwise & haproxy{[}21587{]}: & 193.40.241.17:58110   & {[}13/Oct/2020:18:07:04.387{]} & public\\textasciitilde{}   & mail\\_server/srv01 & 0/0/1/178/180   & ⋯ & 0 & 0 & 1 & 0 & 0 & 0 & 0 & 0 & 0 & 1\\\\\n",
       "\t53849 & Oct & 13 & 6:09:04 PM  & cyberwise & haproxy{[}21587{]}: & 193.40.241.17:6122    & {[}13/Oct/2020:18:09:04.388{]} & public\\textasciitilde{}   & mail\\_server/srv01 & 0/0/1/159/164   & ⋯ & 0 & 0 & 1 & 0 & 0 & 0 & 0 & 0 & 0 & 1\\\\\n",
       "\t53850 & Oct & 13 & 6:10:04 PM  & cyberwise & haproxy{[}21587{]}: & 193.40.241.17:56618   & {[}13/Oct/2020:18:10:04.396{]} & public\\textasciitilde{}   & mail\\_server/srv01 & 0/0/2/159/161   & ⋯ & 0 & 0 & 1 & 0 & 0 & 0 & 0 & 0 & 0 & 1\\\\\n",
       "\t53851 & Oct & 13 & 6:11:04 PM  & cyberwise & haproxy{[}21587{]}: & 193.40.241.17:9903    & {[}13/Oct/2020:18:11:04.383{]} & public\\textasciitilde{}   & mail\\_server/srv01 & 0/0/1/156/157   & ⋯ & 0 & 0 & 1 & 0 & 0 & 0 & 0 & 0 & 0 & 1\\\\\n",
       "\t53852 & Oct & 13 & 6:13:04 PM  & cyberwise & haproxy{[}21587{]}: & 193.40.241.17:62226   & {[}13/Oct/2020:18:13:04.385{]} & public\\textasciitilde{}   & mail\\_server/srv01 & 0/0/1/160/161   & ⋯ & 0 & 0 & 1 & 0 & 0 & 0 & 0 & 0 & 0 & 1\\\\\n",
       "\t53853 & Oct & 13 & 6:50:12 PM  & cyberwise & haproxy{[}21587{]}: & 42.239.10.178:36825   & {[}13/Oct/2020:18:50:12.495{]} & public    & public/<NOSRV>    & -1/-1/-1/-1/0   & ⋯ & 0 & 0 & 0 & 0 & 1 & 0 & 0 & 0 & 0 & 1\\\\\n",
       "\t53854 & Oct & 13 & 7:37:08 PM  & cyberwise & haproxy{[}21587{]}: & 83.97.20.30:35537     & {[}13/Oct/2020:19:37:08.060{]} & public\\textasciitilde{}   & public/<NOSRV>    & -1/-1/-1/-1/0   & ⋯ & 0 & 0 & 0 & 0 & 1 & 0 & 0 & 0 & 0 & 1\\\\\n",
       "\t53855 & Oct & 13 & 7:56:43 PM  & cyberwise & haproxy{[}21587{]}: & 177.74.156.22:32713   & {[}13/Oct/2020:19:56:43.571{]} & public    & public/<NOSRV>    & -1/-1/-1/-1/0   & ⋯ & 0 & 0 & 0 & 0 & 1 & 0 & 0 & 0 & 0 & 1\\\\\n",
       "\t53856 & Oct & 13 & 8:17:04 PM  & cyberwise & haproxy{[}21587{]}: & 54.219.74.159:45356   & {[}13/Oct/2020:20:17:04.729{]} & public\\textasciitilde{}   & public/<NOSRV>    & -1/-1/-1/-1/0   & ⋯ & 0 & 0 & 0 & 0 & 1 & 0 & 0 & 0 & 0 & 1\\\\\n",
       "\t53857 & Oct & 13 & 8:26:20 PM  & cyberwise & haproxy{[}21587{]}: & 52.26.117.26:33474    & {[}13/Oct/2020:20:26:20.067{]} & public    & public/<NOSRV>    & -1/-1/-1/-1/0   & ⋯ & 0 & 0 & 0 & 0 & 1 & 0 & 0 & 0 & 0 & 1\\\\\n",
       "\t53858 & Oct & 13 & 8:41:19 PM  & cyberwise & haproxy{[}21587{]}: & 186.69.215.191:39328  & {[}13/Oct/2020:20:41:18.879{]} & public    & public/<NOSRV>    & -1/-1/-1/-1/199 & ⋯ & 0 & 0 & 0 & 0 & 1 & 0 & 0 & 0 & 0 & 1\\\\\n",
       "\t53859 & Oct & 13 & 8:48:31 PM  & cyberwise & haproxy{[}21587{]}: & 192.241.221.78:60234  & {[}13/Oct/2020:20:48:31.245{]} & public    & public/<NOSRV>    & -1/-1/-1/-1/0   & ⋯ & 0 & 0 & 0 & 0 & 1 & 0 & 0 & 0 & 0 & 1\\\\\n",
       "\t53860 & Oct & 13 & 9:00:22 PM  & cyberwise & haproxy{[}21587{]}: & 193.40.241.27:61178   & {[}13/Oct/2020:21:00:22.251{]} & public\\textasciitilde{}   & mail\\_server/srv01 & 0/0/1/260/261   & ⋯ & 0 & 0 & 1 & 0 & 0 & 0 & 0 & 0 & 0 & 1\\\\\n",
       "\t53861 & Oct & 13 & 9:00:22 PM  & cyberwise & haproxy{[}21587{]}: & 193.40.241.27:52720   & {[}13/Oct/2020:21:00:22.674{]} & public\\textasciitilde{}   & mail\\_server/srv01 & 0/0/1/251/252   & ⋯ & 0 & 0 & 1 & 0 & 0 & 0 & 0 & 0 & 0 & 1\\\\\n",
       "\t53862 & Oct & 13 & 9:00:23 PM  & cyberwise & haproxy{[}21587{]}: & 193.40.241.27:52087   & {[}13/Oct/2020:21:00:23.110{]} & public\\textasciitilde{}   & mail\\_server/srv01 & 0/0/1/180/181   & ⋯ & 0 & 0 & 1 & 0 & 0 & 0 & 0 & 0 & 0 & 1\\\\\n",
       "\t53863 & Oct & 13 & 9:01:24 PM  & cyberwise & haproxy{[}21587{]}: & 193.40.241.27:32548   & {[}13/Oct/2020:21:01:23.998{]} & public\\textasciitilde{}   & mail\\_server/srv01 & 0/0/1/271/273   & ⋯ & 0 & 0 & 1 & 0 & 0 & 0 & 0 & 0 & 0 & 1\\\\\n",
       "\t53864 & Oct & 13 & 9:29:12 PM  & cyberwise & haproxy{[}21587{]}: & 104.131.178.142:53930 & {[}13/Oct/2020:21:29:12.301{]} & public    & public/<NOSRV>    & -1/-1/-1/-1/0   & ⋯ & 0 & 0 & 0 & 0 & 1 & 0 & 0 & 0 & 0 & 1\\\\\n",
       "\t53865 & Oct & 13 & 10:03:56 PM & cyberwise & haproxy{[}21587{]}: & 190.10.175.206:37707  & {[}13/Oct/2020:22:03:56.698{]} & public    & public/<NOSRV>    & -1/-1/-1/-1/199 & ⋯ & 0 & 0 & 0 & 0 & 1 & 0 & 0 & 0 & 0 & 1\\\\\n",
       "\t53866 & Oct & 13 & 10:20:28 PM & cyberwise & haproxy{[}21587{]}: & 213.6.61.219:58811    & {[}13/Oct/2020:22:20:28.733{]} & public\\textasciitilde{}   & public/<NOSRV>    & -1/-1/-1/-1/0   & ⋯ & 0 & 0 & 0 & 0 & 1 & 0 & 0 & 0 & 0 & 1\\\\\n",
       "\t53867 & Oct & 13 & 11:17:10 PM & cyberwise & haproxy{[}21587{]}: & 185.132.53.161:59522  & {[}13/Oct/2020:23:17:10.156{]} & public\\textasciitilde{}   & public/<NOSRV>    & -1/-1/-1/-1/1   & ⋯ & 0 & 0 & 0 & 0 & 1 & 0 & 0 & 0 & 0 & 1\\\\\n",
       "\t53868 & Oct & 13 & 11:19:33 PM & cyberwise & haproxy{[}21587{]}: & 51.103.46.1:63370     & {[}13/Oct/2020:23:19:33.745{]} & public    & public/<NOSRV>    & -1/-1/-1/-1/0   & ⋯ & 0 & 0 & 0 & 0 & 1 & 0 & 0 & 0 & 0 & 1\\\\\n",
       "\t53869 & Oct & 13 & 11:23:29 PM & cyberwise & haproxy{[}21587{]}: & 195.37.190.89:57600   & {[}13/Oct/2020:23:23:27.913{]} & public/2: & SSL               & handshake       & ⋯ & 0 & 0 & 0 & 0 & 0 & 0 & 0 & 1 & 0 & 1\\\\\n",
       "\t53870 & Oct & 13 & 11:24:48 PM & cyberwise & haproxy{[}21587{]}: & 34.208.242.140:56574  & {[}13/Oct/2020:23:24:48.159{]} & public    & public/<NOSRV>    & -1/-1/-1/-1/0   & ⋯ & 0 & 0 & 0 & 0 & 1 & 0 & 0 & 0 & 0 & 1\\\\\n",
       "\t53871 & Oct & 13 & 11:32:01 PM & cyberwise & haproxy{[}21587{]}: & 45.33.80.76:45996     & {[}13/Oct/2020:23:32:01.248{]} & public/2: & SSL               & handshake       & ⋯ & 0 & 0 & 0 & 0 & 0 & 0 & 0 & 1 & 0 & 1\\\\\n",
       "\t53872 & Oct & 13 & 11:35:23 PM & cyberwise & haproxy{[}21587{]}: & 190.154.208.71:50550  & {[}13/Oct/2020:23:35:23.686{]} & public    & public/<NOSRV>    & -1/-1/-1/-1/210 & ⋯ & 0 & 0 & 0 & 0 & 1 & 0 & 0 & 0 & 0 & 1\\\\\n",
       "\t53873 & Oct & 13 & 11:36:06 PM & cyberwise & haproxy{[}21587{]}: & 51.103.46.1:58437     & {[}13/Oct/2020:23:36:06.585{]} & public/2: & SSL               & handshake       & ⋯ & 0 & 0 & 0 & 0 & 0 & 0 & 0 & 1 & 0 & 1\\\\\n",
       "\t53874 & Oct & 13 & 11:46:41 PM & cyberwise & haproxy{[}21587{]}: & 128.14.133.58:35998   & {[}13/Oct/2020:23:46:41.547{]} & public\\textasciitilde{}   & public/<NOSRV>    & -1/-1/-1/-1/0   & ⋯ & 0 & 0 & 0 & 0 & 1 & 0 & 0 & 0 & 0 & 1\\\\\n",
       "\\end{tabular}\n"
      ],
      "text/markdown": [
       "\n",
       "A data.frame: 53874 × 36\n",
       "\n",
       "| <!--/--> | month &lt;chr&gt; | day &lt;chr&gt; | time &lt;chr&gt; | source &lt;chr&gt; | proxy &lt;chr&gt; | ipaddress &lt;chr&gt; | timestamp &lt;chr&gt; | public &lt;chr&gt; | service &lt;chr&gt; | seq1 &lt;chr&gt; | ⋯ ⋯ | service_git_server.srv01 &lt;int&gt; | service_in &lt;int&gt; | service_mail_server.srv01 &lt;int&gt; | service_no &lt;int&gt; | threat &lt;int&gt; | service_registry_server..NOSRV. &lt;int&gt; | service_registry_server.srv01 &lt;int&gt; | service_SSL &lt;int&gt; | service_UP. &lt;int&gt; | freq &lt;int&gt; |\n",
       "|---|---|---|---|---|---|---|---|---|---|---|---|---|---|---|---|---|---|---|---|---|---|\n",
       "| 8018 | Sep | 27 | 6:21:39 AM | cyberwise | haproxy[18754]: | Proxy | public      | started. | <!----> | <!----> | ⋯ | 0 | 0 | 0 | 0 | 0 | 0 | 0 | 0 | 0 | 532 |\n",
       "| 8019 | Sep | 27 | 6:21:39 AM | cyberwise | haproxy[18754]: | Proxy | public      | started. | <!----> | <!----> | ⋯ | 0 | 0 | 0 | 0 | 0 | 0 | 0 | 0 | 0 | 532 |\n",
       "| 8020 | Sep | 27 | 6:21:39 AM | cyberwise | haproxy[18754]: | Proxy | mail_server | started. | <!----> | <!----> | ⋯ | 0 | 0 | 0 | 0 | 0 | 0 | 0 | 0 | 0 | 532 |\n",
       "| 8021 | Sep | 27 | 6:21:39 AM | cyberwise | haproxy[18754]: | Proxy | mail_server | started. | <!----> | <!----> | ⋯ | 0 | 0 | 0 | 0 | 0 | 0 | 0 | 0 | 0 | 532 |\n",
       "| 8022 | Sep | 27 | 6:21:39 AM | cyberwise | haproxy[18754]: | Proxy | git_server  | started. | <!----> | <!----> | ⋯ | 0 | 0 | 0 | 0 | 0 | 0 | 0 | 0 | 0 | 532 |\n",
       "| 8023 | Sep | 27 | 6:21:39 AM | cyberwise | haproxy[18754]: | Proxy | git_server  | started. | <!----> | <!----> | ⋯ | 0 | 0 | 0 | 0 | 0 | 0 | 0 | 0 | 0 | 532 |\n",
       "| 8024 | Sep | 27 | 6:21:39 AM | cyberwise | haproxy[18754]: | Proxy | blog_server | started. | <!----> | <!----> | ⋯ | 0 | 0 | 0 | 0 | 0 | 0 | 0 | 0 | 0 | 532 |\n",
       "| 8025 | Sep | 27 | 6:21:39 AM | cyberwise | haproxy[18754]: | Proxy | blog_server | started. | <!----> | <!----> | ⋯ | 0 | 0 | 0 | 0 | 0 | 0 | 0 | 0 | 0 | 532 |\n",
       "| 8034 | Sep | 27 | 6:21:39 AM | cyberwise | haproxy[18755]: | Proxy | public      | stopped  | (FE: | 21621 | ⋯ | 0 | 0 | 0 | 0 | 0 | 0 | 0 | 0 | 0 | 532 |\n",
       "| 8035 | Sep | 27 | 6:21:39 AM | cyberwise | haproxy[18755]: | Proxy | public      | stopped  | (FE: | 21621 | ⋯ | 0 | 0 | 0 | 0 | 0 | 0 | 0 | 0 | 0 | 532 |\n",
       "| 8036 | Sep | 27 | 6:21:39 AM | cyberwise | haproxy[18755]: | Proxy | mail_server | stopped  | (FE: | 0     | ⋯ | 0 | 0 | 0 | 0 | 0 | 0 | 0 | 0 | 0 | 532 |\n",
       "| 8037 | Sep | 27 | 6:21:39 AM | cyberwise | haproxy[18755]: | Proxy | mail_server | stopped  | (FE: | 0     | ⋯ | 0 | 0 | 0 | 0 | 0 | 0 | 0 | 0 | 0 | 532 |\n",
       "| 8038 | Sep | 27 | 6:21:39 AM | cyberwise | haproxy[18755]: | Proxy | git_server  | stopped  | (FE: | 0     | ⋯ | 0 | 0 | 0 | 0 | 0 | 0 | 0 | 0 | 0 | 532 |\n",
       "| 8039 | Sep | 27 | 6:21:39 AM | cyberwise | haproxy[18755]: | Proxy | git_server  | stopped  | (FE: | 0     | ⋯ | 0 | 0 | 0 | 0 | 0 | 0 | 0 | 0 | 0 | 532 |\n",
       "| 8040 | Sep | 27 | 6:21:39 AM | cyberwise | haproxy[18755]: | Proxy | blog_server | stopped  | (FE: | 0     | ⋯ | 0 | 0 | 0 | 0 | 0 | 0 | 0 | 0 | 0 | 532 |\n",
       "| 8041 | Sep | 27 | 6:21:39 AM | cyberwise | haproxy[18755]: | Proxy | blog_server | stopped  | (FE: | 0     | ⋯ | 0 | 0 | 0 | 0 | 0 | 0 | 0 | 0 | 0 | 532 |\n",
       "| 19823 | Sep | 7  | 9:31:11 AM | cyberwise | haproxy[4787]:  | Proxy | public      | started. | <!----> | <!----> | ⋯ | 0 | 0 | 0 | 0 | 0 | 0 | 0 | 0 | 0 | 532 |\n",
       "| 19824 | Sep | 7  | 9:31:11 AM | cyberwise | haproxy[4787]:  | Proxy | public      | started. | <!----> | <!----> | ⋯ | 0 | 0 | 0 | 0 | 0 | 0 | 0 | 0 | 0 | 532 |\n",
       "| 19825 | Sep | 7  | 9:31:11 AM | cyberwise | haproxy[4787]:  | Proxy | mail_server | started. | <!----> | <!----> | ⋯ | 0 | 0 | 0 | 0 | 0 | 0 | 0 | 0 | 0 | 532 |\n",
       "| 19826 | Sep | 7  | 9:31:11 AM | cyberwise | haproxy[4787]:  | Proxy | mail_server | started. | <!----> | <!----> | ⋯ | 0 | 0 | 0 | 0 | 0 | 0 | 0 | 0 | 0 | 532 |\n",
       "| 19827 | Sep | 7  | 9:31:11 AM | cyberwise | haproxy[4787]:  | Proxy | git_server  | started. | <!----> | <!----> | ⋯ | 0 | 0 | 0 | 0 | 0 | 0 | 0 | 0 | 0 | 532 |\n",
       "| 19828 | Sep | 7  | 9:31:11 AM | cyberwise | haproxy[4787]:  | Proxy | git_server  | started. | <!----> | <!----> | ⋯ | 0 | 0 | 0 | 0 | 0 | 0 | 0 | 0 | 0 | 532 |\n",
       "| 19829 | Sep | 7  | 9:31:11 AM | cyberwise | haproxy[4787]:  | Proxy | blog_server | started. | <!----> | <!----> | ⋯ | 0 | 0 | 0 | 0 | 0 | 0 | 0 | 0 | 0 | 532 |\n",
       "| 19830 | Sep | 7  | 9:31:11 AM | cyberwise | haproxy[4787]:  | Proxy | blog_server | started. | <!----> | <!----> | ⋯ | 0 | 0 | 0 | 0 | 0 | 0 | 0 | 0 | 0 | 532 |\n",
       "| 19839 | Sep | 7  | 9:31:11 AM | cyberwise | haproxy[4788]:  | Proxy | public      | stopped  | (FE: | 84219 | ⋯ | 0 | 0 | 0 | 0 | 0 | 0 | 0 | 0 | 0 | 532 |\n",
       "| 19840 | Sep | 7  | 9:31:11 AM | cyberwise | haproxy[4788]:  | Proxy | public      | stopped  | (FE: | 84219 | ⋯ | 0 | 0 | 0 | 0 | 0 | 0 | 0 | 0 | 0 | 532 |\n",
       "| 19841 | Sep | 7  | 9:31:11 AM | cyberwise | haproxy[4788]:  | Proxy | mail_server | stopped  | (FE: | 0     | ⋯ | 0 | 0 | 0 | 0 | 0 | 0 | 0 | 0 | 0 | 532 |\n",
       "| 19842 | Sep | 7  | 9:31:11 AM | cyberwise | haproxy[4788]:  | Proxy | mail_server | stopped  | (FE: | 0     | ⋯ | 0 | 0 | 0 | 0 | 0 | 0 | 0 | 0 | 0 | 532 |\n",
       "| 19843 | Sep | 7  | 9:31:11 AM | cyberwise | haproxy[4788]:  | Proxy | git_server  | stopped  | (FE: | 0     | ⋯ | 0 | 0 | 0 | 0 | 0 | 0 | 0 | 0 | 0 | 532 |\n",
       "| 19844 | Sep | 7  | 9:31:11 AM | cyberwise | haproxy[4788]:  | Proxy | git_server  | stopped  | (FE: | 0     | ⋯ | 0 | 0 | 0 | 0 | 0 | 0 | 0 | 0 | 0 | 532 |\n",
       "| ⋮ | ⋮ | ⋮ | ⋮ | ⋮ | ⋮ | ⋮ | ⋮ | ⋮ | ⋮ | ⋮ | ⋱ | ⋮ | ⋮ | ⋮ | ⋮ | ⋮ | ⋮ | ⋮ | ⋮ | ⋮ | ⋮ |\n",
       "| 53845 | Oct | 13 | 6:03:04 PM  | cyberwise | haproxy[21587]: | 193.40.241.17:30562   | [13/Oct/2020:18:03:04.401] | public~   | mail_server/srv01 | 0/0/2/157/159   | ⋯ | 0 | 0 | 1 | 0 | 0 | 0 | 0 | 0 | 0 | 1 |\n",
       "| 53846 | Oct | 13 | 6:04:04 PM  | cyberwise | haproxy[21587]: | 193.40.241.17:52353   | [13/Oct/2020:18:04:04.385] | public~   | mail_server/srv01 | 0/0/1/166/167   | ⋯ | 0 | 0 | 1 | 0 | 0 | 0 | 0 | 0 | 0 | 1 |\n",
       "| 53847 | Oct | 13 | 6:05:04 PM  | cyberwise | haproxy[21587]: | 193.40.241.17:45579   | [13/Oct/2020:18:05:04.387] | public~   | mail_server/srv01 | 0/0/1/162/163   | ⋯ | 0 | 0 | 1 | 0 | 0 | 0 | 0 | 0 | 0 | 1 |\n",
       "| 53848 | Oct | 13 | 6:07:04 PM  | cyberwise | haproxy[21587]: | 193.40.241.17:58110   | [13/Oct/2020:18:07:04.387] | public~   | mail_server/srv01 | 0/0/1/178/180   | ⋯ | 0 | 0 | 1 | 0 | 0 | 0 | 0 | 0 | 0 | 1 |\n",
       "| 53849 | Oct | 13 | 6:09:04 PM  | cyberwise | haproxy[21587]: | 193.40.241.17:6122    | [13/Oct/2020:18:09:04.388] | public~   | mail_server/srv01 | 0/0/1/159/164   | ⋯ | 0 | 0 | 1 | 0 | 0 | 0 | 0 | 0 | 0 | 1 |\n",
       "| 53850 | Oct | 13 | 6:10:04 PM  | cyberwise | haproxy[21587]: | 193.40.241.17:56618   | [13/Oct/2020:18:10:04.396] | public~   | mail_server/srv01 | 0/0/2/159/161   | ⋯ | 0 | 0 | 1 | 0 | 0 | 0 | 0 | 0 | 0 | 1 |\n",
       "| 53851 | Oct | 13 | 6:11:04 PM  | cyberwise | haproxy[21587]: | 193.40.241.17:9903    | [13/Oct/2020:18:11:04.383] | public~   | mail_server/srv01 | 0/0/1/156/157   | ⋯ | 0 | 0 | 1 | 0 | 0 | 0 | 0 | 0 | 0 | 1 |\n",
       "| 53852 | Oct | 13 | 6:13:04 PM  | cyberwise | haproxy[21587]: | 193.40.241.17:62226   | [13/Oct/2020:18:13:04.385] | public~   | mail_server/srv01 | 0/0/1/160/161   | ⋯ | 0 | 0 | 1 | 0 | 0 | 0 | 0 | 0 | 0 | 1 |\n",
       "| 53853 | Oct | 13 | 6:50:12 PM  | cyberwise | haproxy[21587]: | 42.239.10.178:36825   | [13/Oct/2020:18:50:12.495] | public    | public/&lt;NOSRV&gt;    | -1/-1/-1/-1/0   | ⋯ | 0 | 0 | 0 | 0 | 1 | 0 | 0 | 0 | 0 | 1 |\n",
       "| 53854 | Oct | 13 | 7:37:08 PM  | cyberwise | haproxy[21587]: | 83.97.20.30:35537     | [13/Oct/2020:19:37:08.060] | public~   | public/&lt;NOSRV&gt;    | -1/-1/-1/-1/0   | ⋯ | 0 | 0 | 0 | 0 | 1 | 0 | 0 | 0 | 0 | 1 |\n",
       "| 53855 | Oct | 13 | 7:56:43 PM  | cyberwise | haproxy[21587]: | 177.74.156.22:32713   | [13/Oct/2020:19:56:43.571] | public    | public/&lt;NOSRV&gt;    | -1/-1/-1/-1/0   | ⋯ | 0 | 0 | 0 | 0 | 1 | 0 | 0 | 0 | 0 | 1 |\n",
       "| 53856 | Oct | 13 | 8:17:04 PM  | cyberwise | haproxy[21587]: | 54.219.74.159:45356   | [13/Oct/2020:20:17:04.729] | public~   | public/&lt;NOSRV&gt;    | -1/-1/-1/-1/0   | ⋯ | 0 | 0 | 0 | 0 | 1 | 0 | 0 | 0 | 0 | 1 |\n",
       "| 53857 | Oct | 13 | 8:26:20 PM  | cyberwise | haproxy[21587]: | 52.26.117.26:33474    | [13/Oct/2020:20:26:20.067] | public    | public/&lt;NOSRV&gt;    | -1/-1/-1/-1/0   | ⋯ | 0 | 0 | 0 | 0 | 1 | 0 | 0 | 0 | 0 | 1 |\n",
       "| 53858 | Oct | 13 | 8:41:19 PM  | cyberwise | haproxy[21587]: | 186.69.215.191:39328  | [13/Oct/2020:20:41:18.879] | public    | public/&lt;NOSRV&gt;    | -1/-1/-1/-1/199 | ⋯ | 0 | 0 | 0 | 0 | 1 | 0 | 0 | 0 | 0 | 1 |\n",
       "| 53859 | Oct | 13 | 8:48:31 PM  | cyberwise | haproxy[21587]: | 192.241.221.78:60234  | [13/Oct/2020:20:48:31.245] | public    | public/&lt;NOSRV&gt;    | -1/-1/-1/-1/0   | ⋯ | 0 | 0 | 0 | 0 | 1 | 0 | 0 | 0 | 0 | 1 |\n",
       "| 53860 | Oct | 13 | 9:00:22 PM  | cyberwise | haproxy[21587]: | 193.40.241.27:61178   | [13/Oct/2020:21:00:22.251] | public~   | mail_server/srv01 | 0/0/1/260/261   | ⋯ | 0 | 0 | 1 | 0 | 0 | 0 | 0 | 0 | 0 | 1 |\n",
       "| 53861 | Oct | 13 | 9:00:22 PM  | cyberwise | haproxy[21587]: | 193.40.241.27:52720   | [13/Oct/2020:21:00:22.674] | public~   | mail_server/srv01 | 0/0/1/251/252   | ⋯ | 0 | 0 | 1 | 0 | 0 | 0 | 0 | 0 | 0 | 1 |\n",
       "| 53862 | Oct | 13 | 9:00:23 PM  | cyberwise | haproxy[21587]: | 193.40.241.27:52087   | [13/Oct/2020:21:00:23.110] | public~   | mail_server/srv01 | 0/0/1/180/181   | ⋯ | 0 | 0 | 1 | 0 | 0 | 0 | 0 | 0 | 0 | 1 |\n",
       "| 53863 | Oct | 13 | 9:01:24 PM  | cyberwise | haproxy[21587]: | 193.40.241.27:32548   | [13/Oct/2020:21:01:23.998] | public~   | mail_server/srv01 | 0/0/1/271/273   | ⋯ | 0 | 0 | 1 | 0 | 0 | 0 | 0 | 0 | 0 | 1 |\n",
       "| 53864 | Oct | 13 | 9:29:12 PM  | cyberwise | haproxy[21587]: | 104.131.178.142:53930 | [13/Oct/2020:21:29:12.301] | public    | public/&lt;NOSRV&gt;    | -1/-1/-1/-1/0   | ⋯ | 0 | 0 | 0 | 0 | 1 | 0 | 0 | 0 | 0 | 1 |\n",
       "| 53865 | Oct | 13 | 10:03:56 PM | cyberwise | haproxy[21587]: | 190.10.175.206:37707  | [13/Oct/2020:22:03:56.698] | public    | public/&lt;NOSRV&gt;    | -1/-1/-1/-1/199 | ⋯ | 0 | 0 | 0 | 0 | 1 | 0 | 0 | 0 | 0 | 1 |\n",
       "| 53866 | Oct | 13 | 10:20:28 PM | cyberwise | haproxy[21587]: | 213.6.61.219:58811    | [13/Oct/2020:22:20:28.733] | public~   | public/&lt;NOSRV&gt;    | -1/-1/-1/-1/0   | ⋯ | 0 | 0 | 0 | 0 | 1 | 0 | 0 | 0 | 0 | 1 |\n",
       "| 53867 | Oct | 13 | 11:17:10 PM | cyberwise | haproxy[21587]: | 185.132.53.161:59522  | [13/Oct/2020:23:17:10.156] | public~   | public/&lt;NOSRV&gt;    | -1/-1/-1/-1/1   | ⋯ | 0 | 0 | 0 | 0 | 1 | 0 | 0 | 0 | 0 | 1 |\n",
       "| 53868 | Oct | 13 | 11:19:33 PM | cyberwise | haproxy[21587]: | 51.103.46.1:63370     | [13/Oct/2020:23:19:33.745] | public    | public/&lt;NOSRV&gt;    | -1/-1/-1/-1/0   | ⋯ | 0 | 0 | 0 | 0 | 1 | 0 | 0 | 0 | 0 | 1 |\n",
       "| 53869 | Oct | 13 | 11:23:29 PM | cyberwise | haproxy[21587]: | 195.37.190.89:57600   | [13/Oct/2020:23:23:27.913] | public/2: | SSL               | handshake       | ⋯ | 0 | 0 | 0 | 0 | 0 | 0 | 0 | 1 | 0 | 1 |\n",
       "| 53870 | Oct | 13 | 11:24:48 PM | cyberwise | haproxy[21587]: | 34.208.242.140:56574  | [13/Oct/2020:23:24:48.159] | public    | public/&lt;NOSRV&gt;    | -1/-1/-1/-1/0   | ⋯ | 0 | 0 | 0 | 0 | 1 | 0 | 0 | 0 | 0 | 1 |\n",
       "| 53871 | Oct | 13 | 11:32:01 PM | cyberwise | haproxy[21587]: | 45.33.80.76:45996     | [13/Oct/2020:23:32:01.248] | public/2: | SSL               | handshake       | ⋯ | 0 | 0 | 0 | 0 | 0 | 0 | 0 | 1 | 0 | 1 |\n",
       "| 53872 | Oct | 13 | 11:35:23 PM | cyberwise | haproxy[21587]: | 190.154.208.71:50550  | [13/Oct/2020:23:35:23.686] | public    | public/&lt;NOSRV&gt;    | -1/-1/-1/-1/210 | ⋯ | 0 | 0 | 0 | 0 | 1 | 0 | 0 | 0 | 0 | 1 |\n",
       "| 53873 | Oct | 13 | 11:36:06 PM | cyberwise | haproxy[21587]: | 51.103.46.1:58437     | [13/Oct/2020:23:36:06.585] | public/2: | SSL               | handshake       | ⋯ | 0 | 0 | 0 | 0 | 0 | 0 | 0 | 1 | 0 | 1 |\n",
       "| 53874 | Oct | 13 | 11:46:41 PM | cyberwise | haproxy[21587]: | 128.14.133.58:35998   | [13/Oct/2020:23:46:41.547] | public~   | public/&lt;NOSRV&gt;    | -1/-1/-1/-1/0   | ⋯ | 0 | 0 | 0 | 0 | 1 | 0 | 0 | 0 | 0 | 1 |\n",
       "\n"
      ],
      "text/plain": [
       "      month day time        source    proxy           ipaddress            \n",
       "8018  Sep   27  6:21:39 AM  cyberwise haproxy[18754]: Proxy                \n",
       "8019  Sep   27  6:21:39 AM  cyberwise haproxy[18754]: Proxy                \n",
       "8020  Sep   27  6:21:39 AM  cyberwise haproxy[18754]: Proxy                \n",
       "8021  Sep   27  6:21:39 AM  cyberwise haproxy[18754]: Proxy                \n",
       "8022  Sep   27  6:21:39 AM  cyberwise haproxy[18754]: Proxy                \n",
       "8023  Sep   27  6:21:39 AM  cyberwise haproxy[18754]: Proxy                \n",
       "8024  Sep   27  6:21:39 AM  cyberwise haproxy[18754]: Proxy                \n",
       "8025  Sep   27  6:21:39 AM  cyberwise haproxy[18754]: Proxy                \n",
       "8034  Sep   27  6:21:39 AM  cyberwise haproxy[18755]: Proxy                \n",
       "8035  Sep   27  6:21:39 AM  cyberwise haproxy[18755]: Proxy                \n",
       "8036  Sep   27  6:21:39 AM  cyberwise haproxy[18755]: Proxy                \n",
       "8037  Sep   27  6:21:39 AM  cyberwise haproxy[18755]: Proxy                \n",
       "8038  Sep   27  6:21:39 AM  cyberwise haproxy[18755]: Proxy                \n",
       "8039  Sep   27  6:21:39 AM  cyberwise haproxy[18755]: Proxy                \n",
       "8040  Sep   27  6:21:39 AM  cyberwise haproxy[18755]: Proxy                \n",
       "8041  Sep   27  6:21:39 AM  cyberwise haproxy[18755]: Proxy                \n",
       "19823 Sep   7   9:31:11 AM  cyberwise haproxy[4787]:  Proxy                \n",
       "19824 Sep   7   9:31:11 AM  cyberwise haproxy[4787]:  Proxy                \n",
       "19825 Sep   7   9:31:11 AM  cyberwise haproxy[4787]:  Proxy                \n",
       "19826 Sep   7   9:31:11 AM  cyberwise haproxy[4787]:  Proxy                \n",
       "19827 Sep   7   9:31:11 AM  cyberwise haproxy[4787]:  Proxy                \n",
       "19828 Sep   7   9:31:11 AM  cyberwise haproxy[4787]:  Proxy                \n",
       "19829 Sep   7   9:31:11 AM  cyberwise haproxy[4787]:  Proxy                \n",
       "19830 Sep   7   9:31:11 AM  cyberwise haproxy[4787]:  Proxy                \n",
       "19839 Sep   7   9:31:11 AM  cyberwise haproxy[4788]:  Proxy                \n",
       "19840 Sep   7   9:31:11 AM  cyberwise haproxy[4788]:  Proxy                \n",
       "19841 Sep   7   9:31:11 AM  cyberwise haproxy[4788]:  Proxy                \n",
       "19842 Sep   7   9:31:11 AM  cyberwise haproxy[4788]:  Proxy                \n",
       "19843 Sep   7   9:31:11 AM  cyberwise haproxy[4788]:  Proxy                \n",
       "19844 Sep   7   9:31:11 AM  cyberwise haproxy[4788]:  Proxy                \n",
       "<U+22EE>     <U+22EE> <U+22EE> <U+22EE>    <U+22EE>  <U+22EE>        <U+22EE>             \n",
       "53845 Oct   13  6:03:04 PM  cyberwise haproxy[21587]: 193.40.241.17:30562  \n",
       "53846 Oct   13  6:04:04 PM  cyberwise haproxy[21587]: 193.40.241.17:52353  \n",
       "53847 Oct   13  6:05:04 PM  cyberwise haproxy[21587]: 193.40.241.17:45579  \n",
       "53848 Oct   13  6:07:04 PM  cyberwise haproxy[21587]: 193.40.241.17:58110  \n",
       "53849 Oct   13  6:09:04 PM  cyberwise haproxy[21587]: 193.40.241.17:6122   \n",
       "53850 Oct   13  6:10:04 PM  cyberwise haproxy[21587]: 193.40.241.17:56618  \n",
       "53851 Oct   13  6:11:04 PM  cyberwise haproxy[21587]: 193.40.241.17:9903   \n",
       "53852 Oct   13  6:13:04 PM  cyberwise haproxy[21587]: 193.40.241.17:62226  \n",
       "53853 Oct   13  6:50:12 PM  cyberwise haproxy[21587]: 42.239.10.178:36825  \n",
       "53854 Oct   13  7:37:08 PM  cyberwise haproxy[21587]: 83.97.20.30:35537    \n",
       "53855 Oct   13  7:56:43 PM  cyberwise haproxy[21587]: 177.74.156.22:32713  \n",
       "53856 Oct   13  8:17:04 PM  cyberwise haproxy[21587]: 54.219.74.159:45356  \n",
       "53857 Oct   13  8:26:20 PM  cyberwise haproxy[21587]: 52.26.117.26:33474   \n",
       "53858 Oct   13  8:41:19 PM  cyberwise haproxy[21587]: 186.69.215.191:39328 \n",
       "53859 Oct   13  8:48:31 PM  cyberwise haproxy[21587]: 192.241.221.78:60234 \n",
       "53860 Oct   13  9:00:22 PM  cyberwise haproxy[21587]: 193.40.241.27:61178  \n",
       "53861 Oct   13  9:00:22 PM  cyberwise haproxy[21587]: 193.40.241.27:52720  \n",
       "53862 Oct   13  9:00:23 PM  cyberwise haproxy[21587]: 193.40.241.27:52087  \n",
       "53863 Oct   13  9:01:24 PM  cyberwise haproxy[21587]: 193.40.241.27:32548  \n",
       "53864 Oct   13  9:29:12 PM  cyberwise haproxy[21587]: 104.131.178.142:53930\n",
       "53865 Oct   13  10:03:56 PM cyberwise haproxy[21587]: 190.10.175.206:37707 \n",
       "53866 Oct   13  10:20:28 PM cyberwise haproxy[21587]: 213.6.61.219:58811   \n",
       "53867 Oct   13  11:17:10 PM cyberwise haproxy[21587]: 185.132.53.161:59522 \n",
       "53868 Oct   13  11:19:33 PM cyberwise haproxy[21587]: 51.103.46.1:63370    \n",
       "53869 Oct   13  11:23:29 PM cyberwise haproxy[21587]: 195.37.190.89:57600  \n",
       "53870 Oct   13  11:24:48 PM cyberwise haproxy[21587]: 34.208.242.140:56574 \n",
       "53871 Oct   13  11:32:01 PM cyberwise haproxy[21587]: 45.33.80.76:45996    \n",
       "53872 Oct   13  11:35:23 PM cyberwise haproxy[21587]: 190.154.208.71:50550 \n",
       "53873 Oct   13  11:36:06 PM cyberwise haproxy[21587]: 51.103.46.1:58437    \n",
       "53874 Oct   13  11:46:41 PM cyberwise haproxy[21587]: 128.14.133.58:35998  \n",
       "      timestamp                  public    service           seq1           \n",
       "8018  public                     started.                                   \n",
       "8019  public                     started.                                   \n",
       "8020  mail_server                started.                                   \n",
       "8021  mail_server                started.                                   \n",
       "8022  git_server                 started.                                   \n",
       "8023  git_server                 started.                                   \n",
       "8024  blog_server                started.                                   \n",
       "8025  blog_server                started.                                   \n",
       "8034  public                     stopped   (FE:              21621          \n",
       "8035  public                     stopped   (FE:              21621          \n",
       "8036  mail_server                stopped   (FE:              0              \n",
       "8037  mail_server                stopped   (FE:              0              \n",
       "8038  git_server                 stopped   (FE:              0              \n",
       "8039  git_server                 stopped   (FE:              0              \n",
       "8040  blog_server                stopped   (FE:              0              \n",
       "8041  blog_server                stopped   (FE:              0              \n",
       "19823 public                     started.                                   \n",
       "19824 public                     started.                                   \n",
       "19825 mail_server                started.                                   \n",
       "19826 mail_server                started.                                   \n",
       "19827 git_server                 started.                                   \n",
       "19828 git_server                 started.                                   \n",
       "19829 blog_server                started.                                   \n",
       "19830 blog_server                started.                                   \n",
       "19839 public                     stopped   (FE:              84219          \n",
       "19840 public                     stopped   (FE:              84219          \n",
       "19841 mail_server                stopped   (FE:              0              \n",
       "19842 mail_server                stopped   (FE:              0              \n",
       "19843 git_server                 stopped   (FE:              0              \n",
       "19844 git_server                 stopped   (FE:              0              \n",
       "<U+22EE>     <U+22EE>                   <U+22EE>  <U+22EE>          <U+22EE>       \n",
       "53845 [13/Oct/2020:18:03:04.401] public~   mail_server/srv01 0/0/2/157/159  \n",
       "53846 [13/Oct/2020:18:04:04.385] public~   mail_server/srv01 0/0/1/166/167  \n",
       "53847 [13/Oct/2020:18:05:04.387] public~   mail_server/srv01 0/0/1/162/163  \n",
       "53848 [13/Oct/2020:18:07:04.387] public~   mail_server/srv01 0/0/1/178/180  \n",
       "53849 [13/Oct/2020:18:09:04.388] public~   mail_server/srv01 0/0/1/159/164  \n",
       "53850 [13/Oct/2020:18:10:04.396] public~   mail_server/srv01 0/0/2/159/161  \n",
       "53851 [13/Oct/2020:18:11:04.383] public~   mail_server/srv01 0/0/1/156/157  \n",
       "53852 [13/Oct/2020:18:13:04.385] public~   mail_server/srv01 0/0/1/160/161  \n",
       "53853 [13/Oct/2020:18:50:12.495] public    public/<NOSRV>    -1/-1/-1/-1/0  \n",
       "53854 [13/Oct/2020:19:37:08.060] public~   public/<NOSRV>    -1/-1/-1/-1/0  \n",
       "53855 [13/Oct/2020:19:56:43.571] public    public/<NOSRV>    -1/-1/-1/-1/0  \n",
       "53856 [13/Oct/2020:20:17:04.729] public~   public/<NOSRV>    -1/-1/-1/-1/0  \n",
       "53857 [13/Oct/2020:20:26:20.067] public    public/<NOSRV>    -1/-1/-1/-1/0  \n",
       "53858 [13/Oct/2020:20:41:18.879] public    public/<NOSRV>    -1/-1/-1/-1/199\n",
       "53859 [13/Oct/2020:20:48:31.245] public    public/<NOSRV>    -1/-1/-1/-1/0  \n",
       "53860 [13/Oct/2020:21:00:22.251] public~   mail_server/srv01 0/0/1/260/261  \n",
       "53861 [13/Oct/2020:21:00:22.674] public~   mail_server/srv01 0/0/1/251/252  \n",
       "53862 [13/Oct/2020:21:00:23.110] public~   mail_server/srv01 0/0/1/180/181  \n",
       "53863 [13/Oct/2020:21:01:23.998] public~   mail_server/srv01 0/0/1/271/273  \n",
       "53864 [13/Oct/2020:21:29:12.301] public    public/<NOSRV>    -1/-1/-1/-1/0  \n",
       "53865 [13/Oct/2020:22:03:56.698] public    public/<NOSRV>    -1/-1/-1/-1/199\n",
       "53866 [13/Oct/2020:22:20:28.733] public~   public/<NOSRV>    -1/-1/-1/-1/0  \n",
       "53867 [13/Oct/2020:23:17:10.156] public~   public/<NOSRV>    -1/-1/-1/-1/1  \n",
       "53868 [13/Oct/2020:23:19:33.745] public    public/<NOSRV>    -1/-1/-1/-1/0  \n",
       "53869 [13/Oct/2020:23:23:27.913] public/2: SSL               handshake      \n",
       "53870 [13/Oct/2020:23:24:48.159] public    public/<NOSRV>    -1/-1/-1/-1/0  \n",
       "53871 [13/Oct/2020:23:32:01.248] public/2: SSL               handshake      \n",
       "53872 [13/Oct/2020:23:35:23.686] public    public/<NOSRV>    -1/-1/-1/-1/210\n",
       "53873 [13/Oct/2020:23:36:06.585] public/2: SSL               handshake      \n",
       "53874 [13/Oct/2020:23:46:41.547] public~   public/<NOSRV>    -1/-1/-1/-1/0  \n",
       "      <U+22EF>        service_git_server.srv01 service_in service_mail_server.srv01\n",
       "8018  <U+22EF> 0                        0          0                        \n",
       "8019  <U+22EF> 0                        0          0                        \n",
       "8020  <U+22EF> 0                        0          0                        \n",
       "8021  <U+22EF> 0                        0          0                        \n",
       "8022  <U+22EF> 0                        0          0                        \n",
       "8023  <U+22EF> 0                        0          0                        \n",
       "8024  <U+22EF> 0                        0          0                        \n",
       "8025  <U+22EF> 0                        0          0                        \n",
       "8034  <U+22EF> 0                        0          0                        \n",
       "8035  <U+22EF> 0                        0          0                        \n",
       "8036  <U+22EF> 0                        0          0                        \n",
       "8037  <U+22EF> 0                        0          0                        \n",
       "8038  <U+22EF> 0                        0          0                        \n",
       "8039  <U+22EF> 0                        0          0                        \n",
       "8040  <U+22EF> 0                        0          0                        \n",
       "8041  <U+22EF> 0                        0          0                        \n",
       "19823 <U+22EF> 0                        0          0                        \n",
       "19824 <U+22EF> 0                        0          0                        \n",
       "19825 <U+22EF> 0                        0          0                        \n",
       "19826 <U+22EF> 0                        0          0                        \n",
       "19827 <U+22EF> 0                        0          0                        \n",
       "19828 <U+22EF> 0                        0          0                        \n",
       "19829 <U+22EF> 0                        0          0                        \n",
       "19830 <U+22EF> 0                        0          0                        \n",
       "19839 <U+22EF> 0                        0          0                        \n",
       "19840 <U+22EF> 0                        0          0                        \n",
       "19841 <U+22EF> 0                        0          0                        \n",
       "19842 <U+22EF> 0                        0          0                        \n",
       "19843 <U+22EF> 0                        0          0                        \n",
       "19844 <U+22EF> 0                        0          0                        \n",
       "<U+22EE>     <U+22F1> <U+22EE>                 <U+22EE>   <U+22EE>                 \n",
       "53845 <U+22EF> 0                        0          1                        \n",
       "53846 <U+22EF> 0                        0          1                        \n",
       "53847 <U+22EF> 0                        0          1                        \n",
       "53848 <U+22EF> 0                        0          1                        \n",
       "53849 <U+22EF> 0                        0          1                        \n",
       "53850 <U+22EF> 0                        0          1                        \n",
       "53851 <U+22EF> 0                        0          1                        \n",
       "53852 <U+22EF> 0                        0          1                        \n",
       "53853 <U+22EF> 0                        0          0                        \n",
       "53854 <U+22EF> 0                        0          0                        \n",
       "53855 <U+22EF> 0                        0          0                        \n",
       "53856 <U+22EF> 0                        0          0                        \n",
       "53857 <U+22EF> 0                        0          0                        \n",
       "53858 <U+22EF> 0                        0          0                        \n",
       "53859 <U+22EF> 0                        0          0                        \n",
       "53860 <U+22EF> 0                        0          1                        \n",
       "53861 <U+22EF> 0                        0          1                        \n",
       "53862 <U+22EF> 0                        0          1                        \n",
       "53863 <U+22EF> 0                        0          1                        \n",
       "53864 <U+22EF> 0                        0          0                        \n",
       "53865 <U+22EF> 0                        0          0                        \n",
       "53866 <U+22EF> 0                        0          0                        \n",
       "53867 <U+22EF> 0                        0          0                        \n",
       "53868 <U+22EF> 0                        0          0                        \n",
       "53869 <U+22EF> 0                        0          0                        \n",
       "53870 <U+22EF> 0                        0          0                        \n",
       "53871 <U+22EF> 0                        0          0                        \n",
       "53872 <U+22EF> 0                        0          0                        \n",
       "53873 <U+22EF> 0                        0          0                        \n",
       "53874 <U+22EF> 0                        0          0                        \n",
       "      service_no threat service_registry_server..NOSRV.\n",
       "8018  0          0      0                              \n",
       "8019  0          0      0                              \n",
       "8020  0          0      0                              \n",
       "8021  0          0      0                              \n",
       "8022  0          0      0                              \n",
       "8023  0          0      0                              \n",
       "8024  0          0      0                              \n",
       "8025  0          0      0                              \n",
       "8034  0          0      0                              \n",
       "8035  0          0      0                              \n",
       "8036  0          0      0                              \n",
       "8037  0          0      0                              \n",
       "8038  0          0      0                              \n",
       "8039  0          0      0                              \n",
       "8040  0          0      0                              \n",
       "8041  0          0      0                              \n",
       "19823 0          0      0                              \n",
       "19824 0          0      0                              \n",
       "19825 0          0      0                              \n",
       "19826 0          0      0                              \n",
       "19827 0          0      0                              \n",
       "19828 0          0      0                              \n",
       "19829 0          0      0                              \n",
       "19830 0          0      0                              \n",
       "19839 0          0      0                              \n",
       "19840 0          0      0                              \n",
       "19841 0          0      0                              \n",
       "19842 0          0      0                              \n",
       "19843 0          0      0                              \n",
       "19844 0          0      0                              \n",
       "<U+22EE>     <U+22EE>   <U+22EE> <U+22EE>                       \n",
       "53845 0          0      0                              \n",
       "53846 0          0      0                              \n",
       "53847 0          0      0                              \n",
       "53848 0          0      0                              \n",
       "53849 0          0      0                              \n",
       "53850 0          0      0                              \n",
       "53851 0          0      0                              \n",
       "53852 0          0      0                              \n",
       "53853 0          1      0                              \n",
       "53854 0          1      0                              \n",
       "53855 0          1      0                              \n",
       "53856 0          1      0                              \n",
       "53857 0          1      0                              \n",
       "53858 0          1      0                              \n",
       "53859 0          1      0                              \n",
       "53860 0          0      0                              \n",
       "53861 0          0      0                              \n",
       "53862 0          0      0                              \n",
       "53863 0          0      0                              \n",
       "53864 0          1      0                              \n",
       "53865 0          1      0                              \n",
       "53866 0          1      0                              \n",
       "53867 0          1      0                              \n",
       "53868 0          1      0                              \n",
       "53869 0          0      0                              \n",
       "53870 0          1      0                              \n",
       "53871 0          0      0                              \n",
       "53872 0          1      0                              \n",
       "53873 0          0      0                              \n",
       "53874 0          1      0                              \n",
       "      service_registry_server.srv01 service_SSL service_UP. freq\n",
       "8018  0                             0           0           532 \n",
       "8019  0                             0           0           532 \n",
       "8020  0                             0           0           532 \n",
       "8021  0                             0           0           532 \n",
       "8022  0                             0           0           532 \n",
       "8023  0                             0           0           532 \n",
       "8024  0                             0           0           532 \n",
       "8025  0                             0           0           532 \n",
       "8034  0                             0           0           532 \n",
       "8035  0                             0           0           532 \n",
       "8036  0                             0           0           532 \n",
       "8037  0                             0           0           532 \n",
       "8038  0                             0           0           532 \n",
       "8039  0                             0           0           532 \n",
       "8040  0                             0           0           532 \n",
       "8041  0                             0           0           532 \n",
       "19823 0                             0           0           532 \n",
       "19824 0                             0           0           532 \n",
       "19825 0                             0           0           532 \n",
       "19826 0                             0           0           532 \n",
       "19827 0                             0           0           532 \n",
       "19828 0                             0           0           532 \n",
       "19829 0                             0           0           532 \n",
       "19830 0                             0           0           532 \n",
       "19839 0                             0           0           532 \n",
       "19840 0                             0           0           532 \n",
       "19841 0                             0           0           532 \n",
       "19842 0                             0           0           532 \n",
       "19843 0                             0           0           532 \n",
       "19844 0                             0           0           532 \n",
       "<U+22EE>     <U+22EE>                      <U+22EE>    <U+22EE>    <U+22EE>\n",
       "53845 0                             0           0           1   \n",
       "53846 0                             0           0           1   \n",
       "53847 0                             0           0           1   \n",
       "53848 0                             0           0           1   \n",
       "53849 0                             0           0           1   \n",
       "53850 0                             0           0           1   \n",
       "53851 0                             0           0           1   \n",
       "53852 0                             0           0           1   \n",
       "53853 0                             0           0           1   \n",
       "53854 0                             0           0           1   \n",
       "53855 0                             0           0           1   \n",
       "53856 0                             0           0           1   \n",
       "53857 0                             0           0           1   \n",
       "53858 0                             0           0           1   \n",
       "53859 0                             0           0           1   \n",
       "53860 0                             0           0           1   \n",
       "53861 0                             0           0           1   \n",
       "53862 0                             0           0           1   \n",
       "53863 0                             0           0           1   \n",
       "53864 0                             0           0           1   \n",
       "53865 0                             0           0           1   \n",
       "53866 0                             0           0           1   \n",
       "53867 0                             0           0           1   \n",
       "53868 0                             0           0           1   \n",
       "53869 0                             1           0           1   \n",
       "53870 0                             0           0           1   \n",
       "53871 0                             1           0           1   \n",
       "53872 0                             0           0           1   \n",
       "53873 0                             1           0           1   \n",
       "53874 0                             0           0           1   "
      ]
     },
     "metadata": {},
     "output_type": "display_data"
    }
   ],
   "source": [
    "df <- transform(df, freq= ave(seq(nrow(df)), ipaddress, FUN=length))\n",
    "df[order(-df$freq), ]\n",
    "#!!!!Note - revist this!!!!"
   ]
  },
  {
   "cell_type": "code",
   "execution_count": 36,
   "metadata": {},
   "outputs": [
    {
     "data": {
      "text/html": [
       "<table>\n",
       "<caption>A data.frame: 44739 × 2</caption>\n",
       "<thead>\n",
       "\t<tr><th scope=col>ipaddress</th><th scope=col>n</th></tr>\n",
       "\t<tr><th scope=col>&lt;chr&gt;</th><th scope=col>&lt;int&gt;</th></tr>\n",
       "</thead>\n",
       "<tbody>\n",
       "\t<tr><td>[ALERT]              </td><td>148</td></tr>\n",
       "\t<tr><td>[WARNING]            </td><td>102</td></tr>\n",
       "\t<tr><td>1.193.177.125:4213   </td><td>  1</td></tr>\n",
       "\t<tr><td>1.196.79.43:7222     </td><td>  1</td></tr>\n",
       "\t<tr><td>1.199.152.182:5048   </td><td>  1</td></tr>\n",
       "\t<tr><td>1.55.215.30:43806    </td><td>  1</td></tr>\n",
       "\t<tr><td>1.55.215.30:43982    </td><td>  1</td></tr>\n",
       "\t<tr><td>1.55.215.30:44132    </td><td>  1</td></tr>\n",
       "\t<tr><td>1.68.220.27:11552    </td><td>  1</td></tr>\n",
       "\t<tr><td>100.20.64.236:42882  </td><td>  1</td></tr>\n",
       "\t<tr><td>100.20.64.236:42900  </td><td>  1</td></tr>\n",
       "\t<tr><td>100.21.42.170:46894  </td><td>  1</td></tr>\n",
       "\t<tr><td>101.0.32.37:34144    </td><td>  1</td></tr>\n",
       "\t<tr><td>101.20.110.63:42610  </td><td>  1</td></tr>\n",
       "\t<tr><td>101.20.110.63:42619  </td><td>  1</td></tr>\n",
       "\t<tr><td>101.20.110.63:44334  </td><td>  1</td></tr>\n",
       "\t<tr><td>101.20.110.63:49963  </td><td>  1</td></tr>\n",
       "\t<tr><td>101.20.110.63:53038  </td><td>  1</td></tr>\n",
       "\t<tr><td>101.32.72.17:33360   </td><td>  1</td></tr>\n",
       "\t<tr><td>101.32.72.17:33366   </td><td>  1</td></tr>\n",
       "\t<tr><td>101.32.72.17:57906   </td><td>  1</td></tr>\n",
       "\t<tr><td>101.32.76.105:52075  </td><td>  1</td></tr>\n",
       "\t<tr><td>101.32.76.105:64157  </td><td>  1</td></tr>\n",
       "\t<tr><td>101.50.3.205:38928   </td><td>  1</td></tr>\n",
       "\t<tr><td>101.50.3.205:39272   </td><td>  1</td></tr>\n",
       "\t<tr><td>101.50.3.205:41606   </td><td>  1</td></tr>\n",
       "\t<tr><td>102.140.227.151:29520</td><td>  1</td></tr>\n",
       "\t<tr><td>102.141.136.229:57464</td><td>  1</td></tr>\n",
       "\t<tr><td>102.165.126.122:40948</td><td>  1</td></tr>\n",
       "\t<tr><td>102.165.30.1:58190   </td><td>  1</td></tr>\n",
       "\t<tr><td>⋮</td><td>⋮</td></tr>\n",
       "\t<tr><td>95.142.253.44:53754 </td><td>  1</td></tr>\n",
       "\t<tr><td>95.170.113.52:49333 </td><td>  1</td></tr>\n",
       "\t<tr><td>95.173.241.141:49507</td><td>  1</td></tr>\n",
       "\t<tr><td>95.181.3.136:43103  </td><td>  1</td></tr>\n",
       "\t<tr><td>95.188.38.158:58789 </td><td>  1</td></tr>\n",
       "\t<tr><td>95.188.7.16:60896   </td><td>  1</td></tr>\n",
       "\t<tr><td>95.210.249.212:60369</td><td>  1</td></tr>\n",
       "\t<tr><td>95.216.113.222:37596</td><td>  1</td></tr>\n",
       "\t<tr><td>95.216.113.222:54696</td><td>  1</td></tr>\n",
       "\t<tr><td>95.217.236.190:57220</td><td>  1</td></tr>\n",
       "\t<tr><td>95.217.236.190:57290</td><td>  1</td></tr>\n",
       "\t<tr><td>95.217.236.190:57344</td><td>  1</td></tr>\n",
       "\t<tr><td>95.32.180.42:59331  </td><td>  1</td></tr>\n",
       "\t<tr><td>95.6.43.204:44640   </td><td>  1</td></tr>\n",
       "\t<tr><td>95.70.229.226:43098 </td><td>  1</td></tr>\n",
       "\t<tr><td>95.80.182.66:60118  </td><td>  1</td></tr>\n",
       "\t<tr><td>96.126.103.73:46634 </td><td>  1</td></tr>\n",
       "\t<tr><td>96.19.163.93:50573  </td><td>  1</td></tr>\n",
       "\t<tr><td>96.239.131.118:34588</td><td>  1</td></tr>\n",
       "\t<tr><td>96.33.84.48:56650   </td><td>  1</td></tr>\n",
       "\t<tr><td>96.42.10.130:51786  </td><td>  1</td></tr>\n",
       "\t<tr><td>97.107.130.213:41744</td><td>  1</td></tr>\n",
       "\t<tr><td>97.74.24.221:51378  </td><td>  1</td></tr>\n",
       "\t<tr><td>98.128.142.57:55437 </td><td>  1</td></tr>\n",
       "\t<tr><td>98.148.97.198:34302 </td><td>  1</td></tr>\n",
       "\t<tr><td>99.188.30.66:38200  </td><td>  1</td></tr>\n",
       "\t<tr><td>backend             </td><td>  4</td></tr>\n",
       "\t<tr><td>Proxy               </td><td>532</td></tr>\n",
       "\t<tr><td>Server              </td><td>  6</td></tr>\n",
       "\t<tr><td>Stopping            </td><td>254</td></tr>\n",
       "</tbody>\n",
       "</table>\n"
      ],
      "text/latex": [
       "A data.frame: 44739 × 2\n",
       "\\begin{tabular}{ll}\n",
       " ipaddress & n\\\\\n",
       " <chr> & <int>\\\\\n",
       "\\hline\n",
       "\t {[}ALERT{]}               & 148\\\\\n",
       "\t {[}WARNING{]}             & 102\\\\\n",
       "\t 1.193.177.125:4213    &   1\\\\\n",
       "\t 1.196.79.43:7222      &   1\\\\\n",
       "\t 1.199.152.182:5048    &   1\\\\\n",
       "\t 1.55.215.30:43806     &   1\\\\\n",
       "\t 1.55.215.30:43982     &   1\\\\\n",
       "\t 1.55.215.30:44132     &   1\\\\\n",
       "\t 1.68.220.27:11552     &   1\\\\\n",
       "\t 100.20.64.236:42882   &   1\\\\\n",
       "\t 100.20.64.236:42900   &   1\\\\\n",
       "\t 100.21.42.170:46894   &   1\\\\\n",
       "\t 101.0.32.37:34144     &   1\\\\\n",
       "\t 101.20.110.63:42610   &   1\\\\\n",
       "\t 101.20.110.63:42619   &   1\\\\\n",
       "\t 101.20.110.63:44334   &   1\\\\\n",
       "\t 101.20.110.63:49963   &   1\\\\\n",
       "\t 101.20.110.63:53038   &   1\\\\\n",
       "\t 101.32.72.17:33360    &   1\\\\\n",
       "\t 101.32.72.17:33366    &   1\\\\\n",
       "\t 101.32.72.17:57906    &   1\\\\\n",
       "\t 101.32.76.105:52075   &   1\\\\\n",
       "\t 101.32.76.105:64157   &   1\\\\\n",
       "\t 101.50.3.205:38928    &   1\\\\\n",
       "\t 101.50.3.205:39272    &   1\\\\\n",
       "\t 101.50.3.205:41606    &   1\\\\\n",
       "\t 102.140.227.151:29520 &   1\\\\\n",
       "\t 102.141.136.229:57464 &   1\\\\\n",
       "\t 102.165.126.122:40948 &   1\\\\\n",
       "\t 102.165.30.1:58190    &   1\\\\\n",
       "\t ⋮ & ⋮\\\\\n",
       "\t 95.142.253.44:53754  &   1\\\\\n",
       "\t 95.170.113.52:49333  &   1\\\\\n",
       "\t 95.173.241.141:49507 &   1\\\\\n",
       "\t 95.181.3.136:43103   &   1\\\\\n",
       "\t 95.188.38.158:58789  &   1\\\\\n",
       "\t 95.188.7.16:60896    &   1\\\\\n",
       "\t 95.210.249.212:60369 &   1\\\\\n",
       "\t 95.216.113.222:37596 &   1\\\\\n",
       "\t 95.216.113.222:54696 &   1\\\\\n",
       "\t 95.217.236.190:57220 &   1\\\\\n",
       "\t 95.217.236.190:57290 &   1\\\\\n",
       "\t 95.217.236.190:57344 &   1\\\\\n",
       "\t 95.32.180.42:59331   &   1\\\\\n",
       "\t 95.6.43.204:44640    &   1\\\\\n",
       "\t 95.70.229.226:43098  &   1\\\\\n",
       "\t 95.80.182.66:60118   &   1\\\\\n",
       "\t 96.126.103.73:46634  &   1\\\\\n",
       "\t 96.19.163.93:50573   &   1\\\\\n",
       "\t 96.239.131.118:34588 &   1\\\\\n",
       "\t 96.33.84.48:56650    &   1\\\\\n",
       "\t 96.42.10.130:51786   &   1\\\\\n",
       "\t 97.107.130.213:41744 &   1\\\\\n",
       "\t 97.74.24.221:51378   &   1\\\\\n",
       "\t 98.128.142.57:55437  &   1\\\\\n",
       "\t 98.148.97.198:34302  &   1\\\\\n",
       "\t 99.188.30.66:38200   &   1\\\\\n",
       "\t backend              &   4\\\\\n",
       "\t Proxy                & 532\\\\\n",
       "\t Server               &   6\\\\\n",
       "\t Stopping             & 254\\\\\n",
       "\\end{tabular}\n"
      ],
      "text/markdown": [
       "\n",
       "A data.frame: 44739 × 2\n",
       "\n",
       "| ipaddress &lt;chr&gt; | n &lt;int&gt; |\n",
       "|---|---|\n",
       "| [ALERT]               | 148 |\n",
       "| [WARNING]             | 102 |\n",
       "| 1.193.177.125:4213    |   1 |\n",
       "| 1.196.79.43:7222      |   1 |\n",
       "| 1.199.152.182:5048    |   1 |\n",
       "| 1.55.215.30:43806     |   1 |\n",
       "| 1.55.215.30:43982     |   1 |\n",
       "| 1.55.215.30:44132     |   1 |\n",
       "| 1.68.220.27:11552     |   1 |\n",
       "| 100.20.64.236:42882   |   1 |\n",
       "| 100.20.64.236:42900   |   1 |\n",
       "| 100.21.42.170:46894   |   1 |\n",
       "| 101.0.32.37:34144     |   1 |\n",
       "| 101.20.110.63:42610   |   1 |\n",
       "| 101.20.110.63:42619   |   1 |\n",
       "| 101.20.110.63:44334   |   1 |\n",
       "| 101.20.110.63:49963   |   1 |\n",
       "| 101.20.110.63:53038   |   1 |\n",
       "| 101.32.72.17:33360    |   1 |\n",
       "| 101.32.72.17:33366    |   1 |\n",
       "| 101.32.72.17:57906    |   1 |\n",
       "| 101.32.76.105:52075   |   1 |\n",
       "| 101.32.76.105:64157   |   1 |\n",
       "| 101.50.3.205:38928    |   1 |\n",
       "| 101.50.3.205:39272    |   1 |\n",
       "| 101.50.3.205:41606    |   1 |\n",
       "| 102.140.227.151:29520 |   1 |\n",
       "| 102.141.136.229:57464 |   1 |\n",
       "| 102.165.126.122:40948 |   1 |\n",
       "| 102.165.30.1:58190    |   1 |\n",
       "| ⋮ | ⋮ |\n",
       "| 95.142.253.44:53754  |   1 |\n",
       "| 95.170.113.52:49333  |   1 |\n",
       "| 95.173.241.141:49507 |   1 |\n",
       "| 95.181.3.136:43103   |   1 |\n",
       "| 95.188.38.158:58789  |   1 |\n",
       "| 95.188.7.16:60896    |   1 |\n",
       "| 95.210.249.212:60369 |   1 |\n",
       "| 95.216.113.222:37596 |   1 |\n",
       "| 95.216.113.222:54696 |   1 |\n",
       "| 95.217.236.190:57220 |   1 |\n",
       "| 95.217.236.190:57290 |   1 |\n",
       "| 95.217.236.190:57344 |   1 |\n",
       "| 95.32.180.42:59331   |   1 |\n",
       "| 95.6.43.204:44640    |   1 |\n",
       "| 95.70.229.226:43098  |   1 |\n",
       "| 95.80.182.66:60118   |   1 |\n",
       "| 96.126.103.73:46634  |   1 |\n",
       "| 96.19.163.93:50573   |   1 |\n",
       "| 96.239.131.118:34588 |   1 |\n",
       "| 96.33.84.48:56650    |   1 |\n",
       "| 96.42.10.130:51786   |   1 |\n",
       "| 97.107.130.213:41744 |   1 |\n",
       "| 97.74.24.221:51378   |   1 |\n",
       "| 98.128.142.57:55437  |   1 |\n",
       "| 98.148.97.198:34302  |   1 |\n",
       "| 99.188.30.66:38200   |   1 |\n",
       "| backend              |   4 |\n",
       "| Proxy                | 532 |\n",
       "| Server               |   6 |\n",
       "| Stopping             | 254 |\n",
       "\n"
      ],
      "text/plain": [
       "      ipaddress             n  \n",
       "1     [ALERT]               148\n",
       "2     [WARNING]             102\n",
       "3     1.193.177.125:4213      1\n",
       "4     1.196.79.43:7222        1\n",
       "5     1.199.152.182:5048      1\n",
       "6     1.55.215.30:43806       1\n",
       "7     1.55.215.30:43982       1\n",
       "8     1.55.215.30:44132       1\n",
       "9     1.68.220.27:11552       1\n",
       "10    100.20.64.236:42882     1\n",
       "11    100.20.64.236:42900     1\n",
       "12    100.21.42.170:46894     1\n",
       "13    101.0.32.37:34144       1\n",
       "14    101.20.110.63:42610     1\n",
       "15    101.20.110.63:42619     1\n",
       "16    101.20.110.63:44334     1\n",
       "17    101.20.110.63:49963     1\n",
       "18    101.20.110.63:53038     1\n",
       "19    101.32.72.17:33360      1\n",
       "20    101.32.72.17:33366      1\n",
       "21    101.32.72.17:57906      1\n",
       "22    101.32.76.105:52075     1\n",
       "23    101.32.76.105:64157     1\n",
       "24    101.50.3.205:38928      1\n",
       "25    101.50.3.205:39272      1\n",
       "26    101.50.3.205:41606      1\n",
       "27    102.140.227.151:29520   1\n",
       "28    102.141.136.229:57464   1\n",
       "29    102.165.126.122:40948   1\n",
       "30    102.165.30.1:58190      1\n",
       "<U+22EE>     <U+22EE>              <U+22EE>\n",
       "44710 95.142.253.44:53754     1\n",
       "44711 95.170.113.52:49333     1\n",
       "44712 95.173.241.141:49507    1\n",
       "44713 95.181.3.136:43103      1\n",
       "44714 95.188.38.158:58789     1\n",
       "44715 95.188.7.16:60896       1\n",
       "44716 95.210.249.212:60369    1\n",
       "44717 95.216.113.222:37596    1\n",
       "44718 95.216.113.222:54696    1\n",
       "44719 95.217.236.190:57220    1\n",
       "44720 95.217.236.190:57290    1\n",
       "44721 95.217.236.190:57344    1\n",
       "44722 95.32.180.42:59331      1\n",
       "44723 95.6.43.204:44640       1\n",
       "44724 95.70.229.226:43098     1\n",
       "44725 95.80.182.66:60118      1\n",
       "44726 96.126.103.73:46634     1\n",
       "44727 96.19.163.93:50573      1\n",
       "44728 96.239.131.118:34588    1\n",
       "44729 96.33.84.48:56650       1\n",
       "44730 96.42.10.130:51786      1\n",
       "44731 97.107.130.213:41744    1\n",
       "44732 97.74.24.221:51378      1\n",
       "44733 98.128.142.57:55437     1\n",
       "44734 98.148.97.198:34302     1\n",
       "44735 99.188.30.66:38200      1\n",
       "44736 backend                 4\n",
       "44737 Proxy                 532\n",
       "44738 Server                  6\n",
       "44739 Stopping              254"
      ]
     },
     "metadata": {},
     "output_type": "display_data"
    }
   ],
   "source": [
    "count(df,ipaddress)"
   ]
  },
  {
   "cell_type": "code",
   "execution_count": 37,
   "metadata": {},
   "outputs": [],
   "source": [
    "# want to filter the ipadress field to only include the backend, Proxy, Server, Stopping, [Alert], and [Warning] - \n",
    "# - then create dummies for just these"
   ]
  },
  {
   "cell_type": "code",
   "execution_count": 38,
   "metadata": {},
   "outputs": [],
   "source": [
    "df1 <- filter(df, ipaddress == \"Proxy\")\n",
    "df2 <- filter(df, ipaddress == \"backend\")\n",
    "df3 <- filter(df, ipaddress == \"Server\")\n",
    "df4 <- filter(df, ipaddress == \"Stopping\")\n",
    "df5 <- filter(df, ipaddress == \"[Alert]\")\n",
    "df6 <- filter(df, ipaddress == \"[Warning]\")\n",
    "#| ipaddress = \"backend\") #, ipaddress == \"backend\")\n",
    "#sep <- filter(log1, month == \"Sep\")\n",
    "#other <- filter(log1, month !=\"Oct\", month != \"Sep\" )\n",
    "new <- rbind(df1, df2, df3, df4, df5, df6)"
   ]
  },
  {
   "cell_type": "code",
   "execution_count": 40,
   "metadata": {},
   "outputs": [
    {
     "data": {
      "text/html": [
       "<style>\n",
       ".list-inline {list-style: none; margin:0; padding: 0}\n",
       ".list-inline>li {display: inline-block}\n",
       ".list-inline>li:not(:last-child)::after {content: \"\\00b7\"; padding: 0 .5ex}\n",
       "</style>\n",
       "<ol class=list-inline><li>''</li><li>'duration:'</li><li>'active'</li></ol>\n"
      ],
      "text/latex": [
       "\\begin{enumerate*}\n",
       "\\item ''\n",
       "\\item 'duration:'\n",
       "\\item 'active'\n",
       "\\end{enumerate*}\n"
      ],
      "text/markdown": [
       "1. ''\n",
       "2. 'duration:'\n",
       "3. 'active'\n",
       "\n",
       "\n"
      ],
      "text/plain": [
       "[1] \"\"          \"duration:\" \"active\"   "
      ]
     },
     "metadata": {},
     "output_type": "display_data"
    }
   ],
   "source": [
    "(unique(new[[\"action\"]]))"
   ]
  },
  {
   "cell_type": "code",
   "execution_count": 53,
   "metadata": {},
   "outputs": [],
   "source": [
    "# interesting, so this means that after filtering out some of the ipaddresses, the standard actions are no longer present.\n",
    "# indicates cross-correlation , lets also check threat column"
   ]
  },
  {
   "cell_type": "code",
   "execution_count": 41,
   "metadata": {},
   "outputs": [
    {
     "data": {
      "text/html": [
       "0"
      ],
      "text/latex": [
       "0"
      ],
      "text/markdown": [
       "0"
      ],
      "text/plain": [
       "[1] 0"
      ]
     },
     "metadata": {},
     "output_type": "display_data"
    }
   ],
   "source": [
    "(unique(new[[\"threat\"]]))\n",
    "#ok, interesting, also indicates that filterting out some of the ipaddresses, i have also found correlattion to my \"threat\" label.\n",
    "#since i combined df1 - df6 all together to form 'new', i can check everthing !\"new\", and remove ipaddress column.\n",
    "# only focus on rules 9i.e. in notes, response, response code, etc."
   ]
  },
  {
   "cell_type": "code",
   "execution_count": 43,
   "metadata": {},
   "outputs": [],
   "source": [
    "df7 <- filter(df, ipaddress != \"Proxy\")\n",
    "df7 <- filter(df7, ipaddress != \"backend\")\n",
    "df7 <- filter(df7, ipaddress != \"Server\")\n",
    "df7 <- filter(df7, ipaddress != \"Stopping\")\n",
    "df7 <- filter(df7, ipaddress != \"[Alert]\")\n",
    "df7 <- filter(df7, ipaddress != \"[Warning]\")"
   ]
  },
  {
   "cell_type": "code",
   "execution_count": 44,
   "metadata": {},
   "outputs": [
    {
     "data": {
      "text/html": [
       "<style>\n",
       ".list-inline {list-style: none; margin:0; padding: 0}\n",
       ".list-inline>li {display: inline-block}\n",
       ".list-inline>li:not(:last-child)::after {content: \"\\00b7\"; padding: 0 .5ex}\n",
       "</style>\n",
       "<ol class=list-inline><li>'\"GET'</li><li>''</li><li>'\"POST'</li><li>'\"HEAD'</li><li>'&lt;BADREQ&gt;'</li><li>'\"SSTP_DUPLEX_POST'</li><li>'\"OPTIONS'</li><li>'workload'</li><li>'\"CONNECT'</li><li>'load'</li><li>'section'</li><li>'\\'http-request'</li><li>'auth_okay_admin'</li><li>'referenced'</li><li>'\"DELETE'</li><li>'\\'tarpit\\','</li><li>'group'</li><li>'HELP'</li></ol>\n"
      ],
      "text/latex": [
       "\\begin{enumerate*}\n",
       "\\item '\"GET'\n",
       "\\item ''\n",
       "\\item '\"POST'\n",
       "\\item '\"HEAD'\n",
       "\\item '<BADREQ>'\n",
       "\\item '\"SSTP\\_DUPLEX\\_POST'\n",
       "\\item '\"OPTIONS'\n",
       "\\item 'workload'\n",
       "\\item '\"CONNECT'\n",
       "\\item 'load'\n",
       "\\item 'section'\n",
       "\\item '\\textbackslash{}'http-request'\n",
       "\\item 'auth\\_okay\\_admin'\n",
       "\\item 'referenced'\n",
       "\\item '\"DELETE'\n",
       "\\item '\\textbackslash{}'tarpit\\textbackslash{}','\n",
       "\\item 'group'\n",
       "\\item 'HELP'\n",
       "\\end{enumerate*}\n"
      ],
      "text/markdown": [
       "1. '\"GET'\n",
       "2. ''\n",
       "3. '\"POST'\n",
       "4. '\"HEAD'\n",
       "5. '&lt;BADREQ&gt;'\n",
       "6. '\"SSTP_DUPLEX_POST'\n",
       "7. '\"OPTIONS'\n",
       "8. 'workload'\n",
       "9. '\"CONNECT'\n",
       "10. 'load'\n",
       "11. 'section'\n",
       "12. '\\'http-request'\n",
       "13. 'auth_okay_admin'\n",
       "14. 'referenced'\n",
       "15. '\"DELETE'\n",
       "16. '\\'tarpit\\','\n",
       "17. 'group'\n",
       "18. 'HELP'\n",
       "\n",
       "\n"
      ],
      "text/plain": [
       " [1] \"\\\"GET\"              \"\"                   \"\\\"POST\"            \n",
       " [4] \"\\\"HEAD\"             \"<BADREQ>\"           \"\\\"SSTP_DUPLEX_POST\"\n",
       " [7] \"\\\"OPTIONS\"          \"workload\"           \"\\\"CONNECT\"         \n",
       "[10] \"load\"               \"section\"            \"'http-request\"     \n",
       "[13] \"auth_okay_admin\"    \"referenced\"         \"\\\"DELETE\"          \n",
       "[16] \"'tarpit',\"          \"group\"              \"HELP\"              "
      ]
     },
     "metadata": {},
     "output_type": "display_data"
    }
   ],
   "source": [
    "(unique(df7[[\"action\"]]))"
   ]
  },
  {
   "cell_type": "code",
   "execution_count": 45,
   "metadata": {},
   "outputs": [
    {
     "data": {
      "text/html": [
       "<style>\n",
       ".list-inline {list-style: none; margin:0; padding: 0}\n",
       ".list-inline>li {display: inline-block}\n",
       ".list-inline>li:not(:last-child)::after {content: \"\\00b7\"; padding: 0 .5ex}\n",
       "</style>\n",
       "<ol class=list-inline><li>1</li><li>0</li></ol>\n"
      ],
      "text/latex": [
       "\\begin{enumerate*}\n",
       "\\item 1\n",
       "\\item 0\n",
       "\\end{enumerate*}\n"
      ],
      "text/markdown": [
       "1. 1\n",
       "2. 0\n",
       "\n",
       "\n"
      ],
      "text/plain": [
       "[1] 1 0"
      ]
     },
     "metadata": {},
     "output_type": "display_data"
    }
   ],
   "source": [
    "(unique(df7[[\"threat\"]]))"
   ]
  },
  {
   "cell_type": "code",
   "execution_count": 46,
   "metadata": {},
   "outputs": [
    {
     "data": {
      "text/html": [
       "<table>\n",
       "<caption>A data.frame: 2 × 2</caption>\n",
       "<thead>\n",
       "\t<tr><th scope=col>threat</th><th scope=col>n</th></tr>\n",
       "\t<tr><th scope=col>&lt;int&gt;</th><th scope=col>&lt;int&gt;</th></tr>\n",
       "</thead>\n",
       "<tbody>\n",
       "\t<tr><td>0</td><td>44649</td></tr>\n",
       "\t<tr><td>1</td><td> 8429</td></tr>\n",
       "</tbody>\n",
       "</table>\n"
      ],
      "text/latex": [
       "A data.frame: 2 × 2\n",
       "\\begin{tabular}{ll}\n",
       " threat & n\\\\\n",
       " <int> & <int>\\\\\n",
       "\\hline\n",
       "\t 0 & 44649\\\\\n",
       "\t 1 &  8429\\\\\n",
       "\\end{tabular}\n"
      ],
      "text/markdown": [
       "\n",
       "A data.frame: 2 × 2\n",
       "\n",
       "| threat &lt;int&gt; | n &lt;int&gt; |\n",
       "|---|---|\n",
       "| 0 | 44649 |\n",
       "| 1 |  8429 |\n",
       "\n"
      ],
      "text/plain": [
       "  threat n    \n",
       "1 0      44649\n",
       "2 1       8429"
      ]
     },
     "metadata": {},
     "output_type": "display_data"
    }
   ],
   "source": [
    "count(df7,threat)"
   ]
  },
  {
   "cell_type": "code",
   "execution_count": 47,
   "metadata": {},
   "outputs": [
    {
     "data": {
      "text/html": [
       "<style>\n",
       ".list-inline {list-style: none; margin:0; padding: 0}\n",
       ".list-inline>li {display: inline-block}\n",
       ".list-inline>li:not(:last-child)::after {content: \"\\00b7\"; padding: 0 .5ex}\n",
       "</style>\n",
       "<ol class=list-inline><li>'month'</li><li>'day'</li><li>'time'</li><li>'source'</li><li>'proxy'</li><li>'ipaddress'</li><li>'timestamp'</li><li>'public'</li><li>'service'</li><li>'seq1'</li><li>'data1'</li><li>'data2'</li><li>'ignore1'</li><li>'ignore2'</li><li>'label1'</li><li>'seq2'</li><li>'seq3'</li><li>'action'</li><li>'note'</li><li>'http'</li><li>'service_'</li><li>'service_.'</li><li>'service_.FE.'</li><li>'service_blog_server.srv01'</li><li>'service_DOWN.'</li><li>'service_git_server..NOSRV.'</li><li>'service_git_server.srv01'</li><li>'service_in'</li><li>'service_mail_server.srv01'</li><li>'service_no'</li><li>'threat'</li><li>'service_registry_server..NOSRV.'</li><li>'service_registry_server.srv01'</li><li>'service_SSL'</li><li>'service_UP.'</li><li>'freq'</li></ol>\n"
      ],
      "text/latex": [
       "\\begin{enumerate*}\n",
       "\\item 'month'\n",
       "\\item 'day'\n",
       "\\item 'time'\n",
       "\\item 'source'\n",
       "\\item 'proxy'\n",
       "\\item 'ipaddress'\n",
       "\\item 'timestamp'\n",
       "\\item 'public'\n",
       "\\item 'service'\n",
       "\\item 'seq1'\n",
       "\\item 'data1'\n",
       "\\item 'data2'\n",
       "\\item 'ignore1'\n",
       "\\item 'ignore2'\n",
       "\\item 'label1'\n",
       "\\item 'seq2'\n",
       "\\item 'seq3'\n",
       "\\item 'action'\n",
       "\\item 'note'\n",
       "\\item 'http'\n",
       "\\item 'service\\_'\n",
       "\\item 'service\\_.'\n",
       "\\item 'service\\_.FE.'\n",
       "\\item 'service\\_blog\\_server.srv01'\n",
       "\\item 'service\\_DOWN.'\n",
       "\\item 'service\\_git\\_server..NOSRV.'\n",
       "\\item 'service\\_git\\_server.srv01'\n",
       "\\item 'service\\_in'\n",
       "\\item 'service\\_mail\\_server.srv01'\n",
       "\\item 'service\\_no'\n",
       "\\item 'threat'\n",
       "\\item 'service\\_registry\\_server..NOSRV.'\n",
       "\\item 'service\\_registry\\_server.srv01'\n",
       "\\item 'service\\_SSL'\n",
       "\\item 'service\\_UP.'\n",
       "\\item 'freq'\n",
       "\\end{enumerate*}\n"
      ],
      "text/markdown": [
       "1. 'month'\n",
       "2. 'day'\n",
       "3. 'time'\n",
       "4. 'source'\n",
       "5. 'proxy'\n",
       "6. 'ipaddress'\n",
       "7. 'timestamp'\n",
       "8. 'public'\n",
       "9. 'service'\n",
       "10. 'seq1'\n",
       "11. 'data1'\n",
       "12. 'data2'\n",
       "13. 'ignore1'\n",
       "14. 'ignore2'\n",
       "15. 'label1'\n",
       "16. 'seq2'\n",
       "17. 'seq3'\n",
       "18. 'action'\n",
       "19. 'note'\n",
       "20. 'http'\n",
       "21. 'service_'\n",
       "22. 'service_.'\n",
       "23. 'service_.FE.'\n",
       "24. 'service_blog_server.srv01'\n",
       "25. 'service_DOWN.'\n",
       "26. 'service_git_server..NOSRV.'\n",
       "27. 'service_git_server.srv01'\n",
       "28. 'service_in'\n",
       "29. 'service_mail_server.srv01'\n",
       "30. 'service_no'\n",
       "31. 'threat'\n",
       "32. 'service_registry_server..NOSRV.'\n",
       "33. 'service_registry_server.srv01'\n",
       "34. 'service_SSL'\n",
       "35. 'service_UP.'\n",
       "36. 'freq'\n",
       "\n",
       "\n"
      ],
      "text/plain": [
       " [1] \"month\"                           \"day\"                            \n",
       " [3] \"time\"                            \"source\"                         \n",
       " [5] \"proxy\"                           \"ipaddress\"                      \n",
       " [7] \"timestamp\"                       \"public\"                         \n",
       " [9] \"service\"                         \"seq1\"                           \n",
       "[11] \"data1\"                           \"data2\"                          \n",
       "[13] \"ignore1\"                         \"ignore2\"                        \n",
       "[15] \"label1\"                          \"seq2\"                           \n",
       "[17] \"seq3\"                            \"action\"                         \n",
       "[19] \"note\"                            \"http\"                           \n",
       "[21] \"service_\"                        \"service_.\"                      \n",
       "[23] \"service_.FE.\"                    \"service_blog_server.srv01\"      \n",
       "[25] \"service_DOWN.\"                   \"service_git_server..NOSRV.\"     \n",
       "[27] \"service_git_server.srv01\"        \"service_in\"                     \n",
       "[29] \"service_mail_server.srv01\"       \"service_no\"                     \n",
       "[31] \"threat\"                          \"service_registry_server..NOSRV.\"\n",
       "[33] \"service_registry_server.srv01\"   \"service_SSL\"                    \n",
       "[35] \"service_UP.\"                     \"freq\"                           "
      ]
     },
     "metadata": {},
     "output_type": "display_data"
    }
   ],
   "source": [
    "# simplify the input data\n",
    "colnames(df7)"
   ]
  },
  {
   "cell_type": "code",
   "execution_count": 48,
   "metadata": {},
   "outputs": [
    {
     "data": {
      "text/html": [
       "<style>\n",
       ".list-inline {list-style: none; margin:0; padding: 0}\n",
       ".list-inline>li {display: inline-block}\n",
       ".list-inline>li:not(:last-child)::after {content: \"\\00b7\"; padding: 0 .5ex}\n",
       "</style>\n",
       "<ol class=list-inline><li>'seq1'</li><li>'data1'</li><li>'data2'</li><li>'label1'</li><li>'seq2'</li><li>'seq3'</li><li>'action'</li><li>'note'</li><li>'http'</li><li>'threat'</li></ol>\n"
      ],
      "text/latex": [
       "\\begin{enumerate*}\n",
       "\\item 'seq1'\n",
       "\\item 'data1'\n",
       "\\item 'data2'\n",
       "\\item 'label1'\n",
       "\\item 'seq2'\n",
       "\\item 'seq3'\n",
       "\\item 'action'\n",
       "\\item 'note'\n",
       "\\item 'http'\n",
       "\\item 'threat'\n",
       "\\end{enumerate*}\n"
      ],
      "text/markdown": [
       "1. 'seq1'\n",
       "2. 'data1'\n",
       "3. 'data2'\n",
       "4. 'label1'\n",
       "5. 'seq2'\n",
       "6. 'seq3'\n",
       "7. 'action'\n",
       "8. 'note'\n",
       "9. 'http'\n",
       "10. 'threat'\n",
       "\n",
       "\n"
      ],
      "text/plain": [
       " [1] \"seq1\"   \"data1\"  \"data2\"  \"label1\" \"seq2\"   \"seq3\"   \"action\" \"note\"  \n",
       " [9] \"http\"   \"threat\""
      ]
     },
     "metadata": {},
     "output_type": "display_data"
    }
   ],
   "source": [
    "# remove unused columns\n",
    "df8 <- subset(df7, select = -c(1,2,3,4,5,6,7,8,9,13,14,21:30,32:37 ) )\n",
    "colnames(df8)"
   ]
  },
  {
   "cell_type": "code",
   "execution_count": 49,
   "metadata": {},
   "outputs": [
    {
     "data": {
      "text/html": [
       "<style>\n",
       ".list-inline {list-style: none; margin:0; padding: 0}\n",
       ".list-inline>li {display: inline-block}\n",
       ".list-inline>li:not(:last-child)::after {content: \"\\00b7\"; padding: 0 .5ex}\n",
       "</style>\n",
       "<ol class=list-inline><li>'seq1'</li><li>'data1'</li><li>'data2'</li><li>'label1'</li><li>'seq2'</li><li>'seq3'</li><li>'action'</li><li>'note'</li><li>'http'</li><li>'threat'</li><li>'action_'</li><li>'action_\\'http-request'</li><li>'action_\\'tarpit\\','</li><li>'action_\"CONNECT'</li><li>'action_\"DELETE'</li><li>'action_\"GET'</li><li>'action_\"HEAD'</li><li>'action_\"OPTIONS'</li><li>'action_\"POST'</li><li>'action_\"SSTP_DUPLEX_POST'</li><li>'action_&lt;BADREQ&gt;'</li><li>'action_auth_okay_admin'</li><li>'action_group'</li><li>'action_HELP'</li><li>'action_load'</li><li>'action_referenced'</li><li>'action_section'</li><li>'action_workload'</li></ol>\n"
      ],
      "text/latex": [
       "\\begin{enumerate*}\n",
       "\\item 'seq1'\n",
       "\\item 'data1'\n",
       "\\item 'data2'\n",
       "\\item 'label1'\n",
       "\\item 'seq2'\n",
       "\\item 'seq3'\n",
       "\\item 'action'\n",
       "\\item 'note'\n",
       "\\item 'http'\n",
       "\\item 'threat'\n",
       "\\item 'action\\_'\n",
       "\\item 'action\\_\\textbackslash{}'http-request'\n",
       "\\item 'action\\_\\textbackslash{}'tarpit\\textbackslash{}','\n",
       "\\item 'action\\_\"CONNECT'\n",
       "\\item 'action\\_\"DELETE'\n",
       "\\item 'action\\_\"GET'\n",
       "\\item 'action\\_\"HEAD'\n",
       "\\item 'action\\_\"OPTIONS'\n",
       "\\item 'action\\_\"POST'\n",
       "\\item 'action\\_\"SSTP\\_DUPLEX\\_POST'\n",
       "\\item 'action\\_<BADREQ>'\n",
       "\\item 'action\\_auth\\_okay\\_admin'\n",
       "\\item 'action\\_group'\n",
       "\\item 'action\\_HELP'\n",
       "\\item 'action\\_load'\n",
       "\\item 'action\\_referenced'\n",
       "\\item 'action\\_section'\n",
       "\\item 'action\\_workload'\n",
       "\\end{enumerate*}\n"
      ],
      "text/markdown": [
       "1. 'seq1'\n",
       "2. 'data1'\n",
       "3. 'data2'\n",
       "4. 'label1'\n",
       "5. 'seq2'\n",
       "6. 'seq3'\n",
       "7. 'action'\n",
       "8. 'note'\n",
       "9. 'http'\n",
       "10. 'threat'\n",
       "11. 'action_'\n",
       "12. 'action_\\'http-request'\n",
       "13. 'action_\\'tarpit\\','\n",
       "14. 'action_\"CONNECT'\n",
       "15. 'action_\"DELETE'\n",
       "16. 'action_\"GET'\n",
       "17. 'action_\"HEAD'\n",
       "18. 'action_\"OPTIONS'\n",
       "19. 'action_\"POST'\n",
       "20. 'action_\"SSTP_DUPLEX_POST'\n",
       "21. 'action_&lt;BADREQ&gt;'\n",
       "22. 'action_auth_okay_admin'\n",
       "23. 'action_group'\n",
       "24. 'action_HELP'\n",
       "25. 'action_load'\n",
       "26. 'action_referenced'\n",
       "27. 'action_section'\n",
       "28. 'action_workload'\n",
       "\n",
       "\n"
      ],
      "text/plain": [
       " [1] \"seq1\"                      \"data1\"                    \n",
       " [3] \"data2\"                     \"label1\"                   \n",
       " [5] \"seq2\"                      \"seq3\"                     \n",
       " [7] \"action\"                    \"note\"                     \n",
       " [9] \"http\"                      \"threat\"                   \n",
       "[11] \"action_\"                   \"action_'http-request\"     \n",
       "[13] \"action_'tarpit',\"          \"action_\\\"CONNECT\"         \n",
       "[15] \"action_\\\"DELETE\"           \"action_\\\"GET\"             \n",
       "[17] \"action_\\\"HEAD\"             \"action_\\\"OPTIONS\"         \n",
       "[19] \"action_\\\"POST\"             \"action_\\\"SSTP_DUPLEX_POST\"\n",
       "[21] \"action_<BADREQ>\"           \"action_auth_okay_admin\"   \n",
       "[23] \"action_group\"              \"action_HELP\"              \n",
       "[25] \"action_load\"               \"action_referenced\"        \n",
       "[27] \"action_section\"            \"action_workload\"          "
      ]
     },
     "metadata": {},
     "output_type": "display_data"
    }
   ],
   "source": [
    "# create dummies on (seq1, data1, data2, label1, seq2, seq3), just start with \"action\" \n",
    "dummy <- dummy_cols(df8, select_columns = 'action')\n",
    "colnames(dummy)"
   ]
  },
  {
   "cell_type": "code",
   "execution_count": 50,
   "metadata": {},
   "outputs": [
    {
     "data": {
      "text/html": [
       "<style>\n",
       ".list-inline {list-style: none; margin:0; padding: 0}\n",
       ".list-inline>li {display: inline-block}\n",
       ".list-inline>li:not(:last-child)::after {content: \"\\00b7\"; padding: 0 .5ex}\n",
       "</style>\n",
       "<ol class=list-inline><li>'threat'</li><li>'action_'</li><li>'action_\\'http-request'</li><li>'action_\\'tarpit\\','</li><li>'action_\"CONNECT'</li><li>'action_\"DELETE'</li><li>'action_\"GET'</li><li>'action_\"HEAD'</li><li>'action_\"OPTIONS'</li><li>'action_\"POST'</li><li>'action_\"SSTP_DUPLEX_POST'</li><li>'action_&lt;BADREQ&gt;'</li><li>'action_auth_okay_admin'</li><li>'action_group'</li><li>'action_HELP'</li><li>'action_load'</li><li>'action_referenced'</li><li>'action_section'</li><li>'action_workload'</li></ol>\n"
      ],
      "text/latex": [
       "\\begin{enumerate*}\n",
       "\\item 'threat'\n",
       "\\item 'action\\_'\n",
       "\\item 'action\\_\\textbackslash{}'http-request'\n",
       "\\item 'action\\_\\textbackslash{}'tarpit\\textbackslash{}','\n",
       "\\item 'action\\_\"CONNECT'\n",
       "\\item 'action\\_\"DELETE'\n",
       "\\item 'action\\_\"GET'\n",
       "\\item 'action\\_\"HEAD'\n",
       "\\item 'action\\_\"OPTIONS'\n",
       "\\item 'action\\_\"POST'\n",
       "\\item 'action\\_\"SSTP\\_DUPLEX\\_POST'\n",
       "\\item 'action\\_<BADREQ>'\n",
       "\\item 'action\\_auth\\_okay\\_admin'\n",
       "\\item 'action\\_group'\n",
       "\\item 'action\\_HELP'\n",
       "\\item 'action\\_load'\n",
       "\\item 'action\\_referenced'\n",
       "\\item 'action\\_section'\n",
       "\\item 'action\\_workload'\n",
       "\\end{enumerate*}\n"
      ],
      "text/markdown": [
       "1. 'threat'\n",
       "2. 'action_'\n",
       "3. 'action_\\'http-request'\n",
       "4. 'action_\\'tarpit\\','\n",
       "5. 'action_\"CONNECT'\n",
       "6. 'action_\"DELETE'\n",
       "7. 'action_\"GET'\n",
       "8. 'action_\"HEAD'\n",
       "9. 'action_\"OPTIONS'\n",
       "10. 'action_\"POST'\n",
       "11. 'action_\"SSTP_DUPLEX_POST'\n",
       "12. 'action_&lt;BADREQ&gt;'\n",
       "13. 'action_auth_okay_admin'\n",
       "14. 'action_group'\n",
       "15. 'action_HELP'\n",
       "16. 'action_load'\n",
       "17. 'action_referenced'\n",
       "18. 'action_section'\n",
       "19. 'action_workload'\n",
       "\n",
       "\n"
      ],
      "text/plain": [
       " [1] \"threat\"                    \"action_\"                  \n",
       " [3] \"action_'http-request\"      \"action_'tarpit',\"         \n",
       " [5] \"action_\\\"CONNECT\"          \"action_\\\"DELETE\"          \n",
       " [7] \"action_\\\"GET\"              \"action_\\\"HEAD\"            \n",
       " [9] \"action_\\\"OPTIONS\"          \"action_\\\"POST\"            \n",
       "[11] \"action_\\\"SSTP_DUPLEX_POST\" \"action_<BADREQ>\"          \n",
       "[13] \"action_auth_okay_admin\"    \"action_group\"             \n",
       "[15] \"action_HELP\"               \"action_load\"              \n",
       "[17] \"action_referenced\"         \"action_section\"           \n",
       "[19] \"action_workload\"          "
      ]
     },
     "metadata": {},
     "output_type": "display_data"
    }
   ],
   "source": [
    "# create input of just action variables\n",
    "input <- subset(dummy, select = -c(1:9))\n",
    "colnames(input)"
   ]
  },
  {
   "cell_type": "code",
   "execution_count": 51,
   "metadata": {},
   "outputs": [],
   "source": [
    "# rules to focus on:\n",
    "# Request for some .php file in wp which got error code as a response (e.G. uri=\"/new/wp-admin/install.php?step=1\")\n",
    "# Path traversal in uri (e.G. uri=\"/wp-content/plugins/image-export/download.php?file=../../../wp-config.php\")\n",
    "\n",
    "# GET reqeust some .php file in wp which got error code as a response\n",
    "# Path traversal in uri\n",
    "# POST request without 200 response code\n",
    "# can assume all NOSRV line are bad"
   ]
  },
  {
   "cell_type": "markdown",
   "metadata": {},
   "source": [
    "### Modeling (choice of final algo TBD, binary classification with a few features, so will try SVM algo first)"
   ]
  },
  {
   "cell_type": "code",
   "execution_count": 52,
   "metadata": {},
   "outputs": [],
   "source": [
    "set.seed(555)"
   ]
  },
  {
   "cell_type": "code",
   "execution_count": 53,
   "metadata": {},
   "outputs": [],
   "source": [
    "# test train split\n",
    "data1 = sort(sample(nrow(input), nrow(input)*.7))\n",
    "\n",
    "#creating training data set by selecting the output row values\n",
    "train<-input[data1,]\n",
    "\n",
    "#creating test data set by not selecting the output row values\n",
    "test<-input[-data1,]"
   ]
  },
  {
   "cell_type": "code",
   "execution_count": 61,
   "metadata": {},
   "outputs": [],
   "source": [
    "x <- subset(train, select = -threat)\n",
    "y <- subset(train, select = threat)\n",
    "testx <- subset(test, select = -threat)\n",
    "testy <- subset(test, select = threat)"
   ]
  },
  {
   "cell_type": "code",
   "execution_count": 62,
   "metadata": {},
   "outputs": [],
   "source": [
    "model <- svm(x, y)"
   ]
  },
  {
   "cell_type": "code",
   "execution_count": null,
   "metadata": {},
   "outputs": [],
   "source": [
    "# model1 <- svm(y ~ x, data= mtcars[train, ], kernel = \"radial\", gamma =1, cost =1)"
   ]
  },
  {
   "cell_type": "code",
   "execution_count": 63,
   "metadata": {},
   "outputs": [
    {
     "name": "stdout",
     "output_type": "stream",
     "text": [
      "\n",
      "Call:\n",
      "svm.default(x = x, y = y)\n",
      "\n",
      "\n",
      "Parameters:\n",
      "   SVM-Type:  eps-regression \n",
      " SVM-Kernel:  radial \n",
      "       cost:  1 \n",
      "      gamma:  0.05555556 \n",
      "    epsilon:  0.1 \n",
      "\n",
      "\n",
      "Number of Support Vectors:  11258\n",
      "\n"
     ]
    }
   ],
   "source": [
    "print(model)"
   ]
  },
  {
   "cell_type": "code",
   "execution_count": 64,
   "metadata": {},
   "outputs": [
    {
     "data": {
      "text/plain": [
       "\n",
       "Call:\n",
       "svm.default(x = x, y = y)\n",
       "\n",
       "\n",
       "Parameters:\n",
       "   SVM-Type:  eps-regression \n",
       " SVM-Kernel:  radial \n",
       "       cost:  1 \n",
       "      gamma:  0.05555556 \n",
       "    epsilon:  0.1 \n",
       "\n",
       "\n",
       "Number of Support Vectors:  11258\n",
       "\n",
       "\n",
       "\n",
       "\n"
      ]
     },
     "metadata": {},
     "output_type": "display_data"
    }
   ],
   "source": [
    "summary(model)"
   ]
  },
  {
   "cell_type": "markdown",
   "metadata": {},
   "source": [
    "### Prediction"
   ]
  },
  {
   "cell_type": "code",
   "execution_count": 71,
   "metadata": {},
   "outputs": [
    {
     "ename": "ERROR",
     "evalue": "Error in scale.default(newdata[, object$scaled, drop = FALSE], center = object$x.scale$\"scaled:center\", : length of 'center' must equal the number of columns of 'x'\n",
     "output_type": "error",
     "traceback": [
      "Error in scale.default(newdata[, object$scaled, drop = FALSE], center = object$x.scale$\"scaled:center\", : length of 'center' must equal the number of columns of 'x'\nTraceback:\n",
      "1. predict(model, test)",
      "2. predict.svm(model, test)",
      "3. scale(newdata[, object$scaled, drop = FALSE], center = object$x.scale$\"scaled:center\", \n .     scale = object$x.scale$\"scaled:scale\")",
      "4. scale.default(newdata[, object$scaled, drop = FALSE], center = object$x.scale$\"scaled:center\", \n .     scale = object$x.scale$\"scaled:scale\")",
      "5. stop(\"length of 'center' must equal the number of columns of 'x'\")"
     ]
    }
   ],
   "source": [
    "# test with test data\n",
    "pred = predict(model, test)"
   ]
  },
  {
   "cell_type": "code",
   "execution_count": 72,
   "metadata": {},
   "outputs": [
    {
     "ename": "ERROR",
     "evalue": "Error in scale.default(newdata[, object$scaled, drop = FALSE], center = object$x.scale$\"scaled:center\", : length of 'center' must equal the number of columns of 'x'\n",
     "output_type": "error",
     "traceback": [
      "Error in scale.default(newdata[, object$scaled, drop = FALSE], center = object$x.scale$\"scaled:center\", : length of 'center' must equal the number of columns of 'x'\nTraceback:\n",
      "1. predict(model, newdata = test)",
      "2. predict.svm(model, newdata = test)",
      "3. scale(newdata[, object$scaled, drop = FALSE], center = object$x.scale$\"scaled:center\", \n .     scale = object$x.scale$\"scaled:scale\")",
      "4. scale.default(newdata[, object$scaled, drop = FALSE], center = object$x.scale$\"scaled:center\", \n .     scale = object$x.scale$\"scaled:scale\")",
      "5. stop(\"length of 'center' must equal the number of columns of 'x'\")"
     ]
    }
   ],
   "source": [
    "#FORECAST and COMPARISION TO TRUTH\n",
    "pred = predict(model, newdata=test)\n",
    "#true = bike[-train, \"holiday\"]\n",
    "#confusion matrix/test error\n",
    "#table(true, pred)\n",
    "#caret::confusionMatrix(pred, true)"
   ]
  },
  {
   "cell_type": "markdown",
   "metadata": {},
   "source": [
    "### Validation"
   ]
  },
  {
   "cell_type": "code",
   "execution_count": 68,
   "metadata": {},
   "outputs": [
    {
     "ename": "ERROR",
     "evalue": "Error in table(testy, pred): all arguments must have the same length\n",
     "output_type": "error",
     "traceback": [
      "Error in table(testy, pred): all arguments must have the same length\nTraceback:\n",
      "1. table(testy, pred)",
      "2. stop(\"all arguments must have the same length\")"
     ]
    }
   ],
   "source": [
    "# Check accuracy:\n",
    "tab1 <- table(testy, pred)\n",
    "#confusionMatrix(tab1)"
   ]
  },
  {
   "cell_type": "markdown",
   "metadata": {},
   "source": [
    "### Final Prep / Deployment"
   ]
  },
  {
   "cell_type": "code",
   "execution_count": null,
   "metadata": {},
   "outputs": [],
   "source": []
  }
 ],
 "metadata": {
  "kernelspec": {
   "display_name": "R",
   "language": "R",
   "name": "ir"
  },
  "language_info": {
   "codemirror_mode": "r",
   "file_extension": ".r",
   "mimetype": "text/x-r-source",
   "name": "R",
   "pygments_lexer": "r",
   "version": "4.0.2"
  }
 },
 "nbformat": 4,
 "nbformat_minor": 4
}
